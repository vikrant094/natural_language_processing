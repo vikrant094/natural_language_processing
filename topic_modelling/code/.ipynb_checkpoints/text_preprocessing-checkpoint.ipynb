{
 "cells": [
  {
   "cell_type": "code",
   "execution_count": null,
   "metadata": {},
   "outputs": [],
   "source": [
    "import spacy\n",
    "import nltk\n",
    "nlp = spacy.load('en')\n",
    "stops = spacy.lang.en.stop_words.STOP_WORDS\n",
    "from nltk.stem import WordNetLemmatizer\n",
    "\n",
    "\n",
    "def normalize(comment, lowercase =  True ,remove_stopwords = True,lemmatization = True):\n",
    "    if lowercase:\n",
    "        comment = comment.lower()\n",
    "    comment = nlp(comment)\n",
    "    lemmatized = list()\n",
    "    for word in comment:\n",
    "        if lemmatization:\n",
    "            lemma = word.lemma_.strip()\n",
    "            if lemma:\n",
    "                if not remove_stopwords or (remove_stopwords and word not in stops):\n",
    "                    lemmatized.append(lemma)\n",
    "        else:\n",
    "            lemmatized.append(word)\n",
    "    return lemmatized\n",
    "\n",
    "\n",
    "def nltk_cleaning(comment, lowercase = True ,remove_stopwords = True, stemming =False,lemmatization = False):\n",
    "    if lowercase:\n",
    "        comment = comment.lower()\n",
    "    \n",
    "    comment =  nltk.word_tokenize(comment)\n",
    "    stopwords = nltk.corpus.stopwords.words('english')\n",
    "#     len(stopwords)\n",
    "    if remove_stopwords:\n",
    "        comment_cleaned = [word for word in comment if word.lower() not in stopwords]\n",
    "    if stemming:\n",
    "        stemmer = nltk.stem.PorterStemmer()\n",
    "        comment_cleaned = [stemmer.stem(word) for word in comment_cleaned ]\n",
    "    if lemmatization:\n",
    "        lemm = WordNetLemmatizer()\n",
    "        comment_cleaned = [lemm.lemmatize(word) for word in comment_cleaned ]\n",
    "    return ' '.join(comment_cleaned)\n",
    "\n",
    "\n",
    "def text_preprocessing(train_df, lowercase = True ,remove_stopwords = True, stemming =True,lemmatization = True):\n",
    "    train_df['nltk_after_clean'] = train_df['text'].apply(nltk_cleaning,  lowercase=True, remove_stopwords=True)\n",
    "    return train_df"
   ]
  }
 ],
 "metadata": {
  "kernelspec": {
   "display_name": "Python [conda env:NLP]",
   "language": "python",
   "name": "conda-env-NLP-py"
  },
  "language_info": {
   "codemirror_mode": {
    "name": "ipython",
    "version": 3
   },
   "file_extension": ".py",
   "mimetype": "text/x-python",
   "name": "python",
   "nbconvert_exporter": "python",
   "pygments_lexer": "ipython3",
   "version": "3.6.8"
  }
 },
 "nbformat": 4,
 "nbformat_minor": 2
}
