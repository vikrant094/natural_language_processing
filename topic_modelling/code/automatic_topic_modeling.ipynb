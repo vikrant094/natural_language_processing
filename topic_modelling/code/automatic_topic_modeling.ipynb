{
 "cells": [
  {
   "cell_type": "code",
   "execution_count": 1,
   "metadata": {},
   "outputs": [],
   "source": [
    "import base64\n",
    "import numpy as np\n",
    "import pandas as pd\n",
    "import os\n",
    "from collections import Counter\n",
    "import matplotlib.pyplot as plt\n",
    "import text_preprocessing\n",
    "import extract_data\n",
    "\n"
   ]
  },
  {
   "cell_type": "code",
   "execution_count": 8,
   "metadata": {},
   "outputs": [
    {
     "name": "stdout",
     "output_type": "stream",
     "text": [
      "The autoreload extension is already loaded. To reload it, use:\n",
      "  %reload_ext autoreload\n"
     ]
    }
   ],
   "source": [
    "%load_ext autoreload\n",
    "%autoreload 2\n",
    "%aimport extract_data"
   ]
  },
  {
   "cell_type": "markdown",
   "metadata": {},
   "source": [
    "# extract data from news"
   ]
  },
  {
   "cell_type": "markdown",
   "metadata": {},
   "source": [
    "Here we are extracting news data from Quartz Africa newspaper from weblink 'https://qz.com/africa/latest' . Reason behind to choose this website is its simplicity, you can easily extract the data with less effort of cleaning."
   ]
  },
  {
   "cell_type": "code",
   "execution_count": 9,
   "metadata": {},
   "outputs": [
    {
     "data": {
      "text/plain": [
       "['code', 'data', 'output']"
      ]
     },
     "execution_count": 9,
     "metadata": {},
     "output_type": "execute_result"
    }
   ],
   "source": [
    "os.listdir('..//')"
   ]
  },
  {
   "cell_type": "code",
   "execution_count": 10,
   "metadata": {},
   "outputs": [],
   "source": [
    "data_path = r'../data'\n",
    "page_url='https://qz.com/africa/latest'\n",
    "extract_data.extract_data(data_path,page_url)"
   ]
  },
  {
   "cell_type": "code",
   "execution_count": 11,
   "metadata": {},
   "outputs": [
    {
     "name": "stdout",
     "output_type": "stream",
     "text": [
      "<class 'pandas.core.frame.DataFrame'>\n",
      "RangeIndex: 5 entries, 0 to 4\n",
      "Data columns (total 6 columns):\n",
      "Unnamed: 0    5 non-null int64\n",
      "Title         5 non-null object\n",
      "Author        5 non-null object\n",
      "PageLink      5 non-null object\n",
      "Article       5 non-null object\n",
      "Date          5 non-null object\n",
      "dtypes: int64(1), object(5)\n",
      "memory usage: 320.0+ bytes\n",
      "None\n"
     ]
    },
    {
     "data": {
      "text/html": [
       "<div>\n",
       "<style scoped>\n",
       "    .dataframe tbody tr th:only-of-type {\n",
       "        vertical-align: middle;\n",
       "    }\n",
       "\n",
       "    .dataframe tbody tr th {\n",
       "        vertical-align: top;\n",
       "    }\n",
       "\n",
       "    .dataframe thead th {\n",
       "        text-align: right;\n",
       "    }\n",
       "</style>\n",
       "<table border=\"1\" class=\"dataframe\">\n",
       "  <thead>\n",
       "    <tr style=\"text-align: right;\">\n",
       "      <th></th>\n",
       "      <th>Title</th>\n",
       "      <th>Author</th>\n",
       "      <th>PageLink</th>\n",
       "      <th>Article</th>\n",
       "      <th>Date</th>\n",
       "    </tr>\n",
       "  </thead>\n",
       "  <tbody>\n",
       "    <tr>\n",
       "      <th>0</th>\n",
       "      <td>An ambitious drone delivery health service in ...</td>\n",
       "      <td>Kwasi Gyamfi Asiedu</td>\n",
       "      <td>http://qz.com/africa/1604374/ziplines-drone-de...</td>\n",
       "      <td>The Ghana Health Service is working with Zipli...</td>\n",
       "      <td>2019-04-27 11:12:30.022229</td>\n",
       "    </tr>\n",
       "    <tr>\n",
       "      <th>1</th>\n",
       "      <td>MTN will list on the Nigerian Stock Exchange—b...</td>\n",
       "      <td>Yomi Kazeem</td>\n",
       "      <td>http://qz.com/africa/1603394/mtn-nigeria-ipo-t...</td>\n",
       "      <td>But as Quartz Africa has reported, MTN began r...</td>\n",
       "      <td>2019-04-27 11:12:30.022229</td>\n",
       "    </tr>\n",
       "    <tr>\n",
       "      <th>2</th>\n",
       "      <td>How Nigerian universities can reverse their ye...</td>\n",
       "      <td>Isaac Adebayo Adeyemi</td>\n",
       "      <td>http://qz.com/africa/1603479/nigerian-universi...</td>\n",
       "      <td>In the last 40 years government funding in the...</td>\n",
       "      <td>2019-04-27 11:12:30.022229</td>\n",
       "    </tr>\n",
       "    <tr>\n",
       "      <th>3</th>\n",
       "      <td>The fossils of Africa’s ‘big lion’ were hidden...</td>\n",
       "      <td>Abdi Latif Dahir</td>\n",
       "      <td>http://qz.com/africa/1603323/big-lion-fossil-f...</td>\n",
       "      <td>In 2010, Ohio University paleontologist Nancy ...</td>\n",
       "      <td>2019-04-27 11:12:30.022229</td>\n",
       "    </tr>\n",
       "    <tr>\n",
       "      <th>4</th>\n",
       "      <td>Scientists say we can’t be certain why Lake Ch...</td>\n",
       "      <td>Frederi G. Viens, Michigan State University</td>\n",
       "      <td>http://qz.com/africa/1603258/scientists-arent-...</td>\n",
       "      <td>This second study had a geopolitical angle: if...</td>\n",
       "      <td>2019-04-27 11:12:30.022229</td>\n",
       "    </tr>\n",
       "  </tbody>\n",
       "</table>\n",
       "</div>"
      ],
      "text/plain": [
       "                                               Title  \\\n",
       "0  An ambitious drone delivery health service in ...   \n",
       "1  MTN will list on the Nigerian Stock Exchange—b...   \n",
       "2  How Nigerian universities can reverse their ye...   \n",
       "3  The fossils of Africa’s ‘big lion’ were hidden...   \n",
       "4  Scientists say we can’t be certain why Lake Ch...   \n",
       "\n",
       "                                        Author  \\\n",
       "0                          Kwasi Gyamfi Asiedu   \n",
       "1                                  Yomi Kazeem   \n",
       "2                        Isaac Adebayo Adeyemi   \n",
       "3                             Abdi Latif Dahir   \n",
       "4  Frederi G. Viens, Michigan State University   \n",
       "\n",
       "                                            PageLink  \\\n",
       "0  http://qz.com/africa/1604374/ziplines-drone-de...   \n",
       "1  http://qz.com/africa/1603394/mtn-nigeria-ipo-t...   \n",
       "2  http://qz.com/africa/1603479/nigerian-universi...   \n",
       "3  http://qz.com/africa/1603323/big-lion-fossil-f...   \n",
       "4  http://qz.com/africa/1603258/scientists-arent-...   \n",
       "\n",
       "                                             Article  \\\n",
       "0  The Ghana Health Service is working with Zipli...   \n",
       "1  But as Quartz Africa has reported, MTN began r...   \n",
       "2  In the last 40 years government funding in the...   \n",
       "3  In 2010, Ohio University paleontologist Nancy ...   \n",
       "4  This second study had a geopolitical angle: if...   \n",
       "\n",
       "                         Date  \n",
       "0  2019-04-27 11:12:30.022229  \n",
       "1  2019-04-27 11:12:30.022229  \n",
       "2  2019-04-27 11:12:30.022229  \n",
       "3  2019-04-27 11:12:30.022229  \n",
       "4  2019-04-27 11:12:30.022229  "
      ]
     },
     "execution_count": 11,
     "metadata": {},
     "output_type": "execute_result"
    }
   ],
   "source": [
    "train_df = pd.read_csv(os.path.join(data_path,'news.csv'))\n",
    "print(train_df.info())\n",
    "train_df = train_df.drop(['Unnamed: 0'],axis=1)\n",
    "train_df.head()"
   ]
  },
  {
   "cell_type": "code",
   "execution_count": 13,
   "metadata": {},
   "outputs": [
    {
     "name": "stdout",
     "output_type": "stream",
     "text": [
      "An ambitious drone delivery health service in Ghana is tackling key logistics challenges \n",
      "\n",
      "The Ghana Health Service is working with Zipline, the drone company best known for starting blood delivery services in Rwanda. Ghana’s health policymakers hope faster drop-offs will improve its health outcomes including reducing its maternal and infant mortality rates. According to the World Health Organization, “severe bleeding during delivery or after childbirth is the commonest cause of maternal mortality and contributes to around 34% of maternal deaths in Africa.” The timely access to safe b\n"
     ]
    }
   ],
   "source": [
    "print(train_df.loc[0,'Title'],\"\\n\")\n",
    "print(train_df.loc[0,'Article'][:500])\n",
    "train_df['article len'] = train_df['Article'].apply(lambda x:len(x))\n"
   ]
  },
  {
   "cell_type": "code",
   "execution_count": 14,
   "metadata": {},
   "outputs": [
    {
     "data": {
      "text/html": [
       "<div>\n",
       "<style scoped>\n",
       "    .dataframe tbody tr th:only-of-type {\n",
       "        vertical-align: middle;\n",
       "    }\n",
       "\n",
       "    .dataframe tbody tr th {\n",
       "        vertical-align: top;\n",
       "    }\n",
       "\n",
       "    .dataframe thead th {\n",
       "        text-align: right;\n",
       "    }\n",
       "</style>\n",
       "<table border=\"1\" class=\"dataframe\">\n",
       "  <thead>\n",
       "    <tr style=\"text-align: right;\">\n",
       "      <th></th>\n",
       "      <th>Title</th>\n",
       "      <th>Author</th>\n",
       "      <th>PageLink</th>\n",
       "      <th>Article</th>\n",
       "      <th>Date</th>\n",
       "      <th>article len</th>\n",
       "    </tr>\n",
       "  </thead>\n",
       "  <tbody>\n",
       "    <tr>\n",
       "      <th>0</th>\n",
       "      <td>An ambitious drone delivery health service in ...</td>\n",
       "      <td>Kwasi Gyamfi Asiedu</td>\n",
       "      <td>http://qz.com/africa/1604374/ziplines-drone-de...</td>\n",
       "      <td>The Ghana Health Service is working with Zipli...</td>\n",
       "      <td>2019-04-27 11:12:30.022229</td>\n",
       "      <td>3307</td>\n",
       "    </tr>\n",
       "    <tr>\n",
       "      <th>1</th>\n",
       "      <td>MTN will list on the Nigerian Stock Exchange—b...</td>\n",
       "      <td>Yomi Kazeem</td>\n",
       "      <td>http://qz.com/africa/1603394/mtn-nigeria-ipo-t...</td>\n",
       "      <td>But as Quartz Africa has reported, MTN began r...</td>\n",
       "      <td>2019-04-27 11:12:30.022229</td>\n",
       "      <td>1248</td>\n",
       "    </tr>\n",
       "  </tbody>\n",
       "</table>\n",
       "</div>"
      ],
      "text/plain": [
       "                                               Title               Author  \\\n",
       "0  An ambitious drone delivery health service in ...  Kwasi Gyamfi Asiedu   \n",
       "1  MTN will list on the Nigerian Stock Exchange—b...          Yomi Kazeem   \n",
       "\n",
       "                                            PageLink  \\\n",
       "0  http://qz.com/africa/1604374/ziplines-drone-de...   \n",
       "1  http://qz.com/africa/1603394/mtn-nigeria-ipo-t...   \n",
       "\n",
       "                                             Article  \\\n",
       "0  The Ghana Health Service is working with Zipli...   \n",
       "1  But as Quartz Africa has reported, MTN began r...   \n",
       "\n",
       "                         Date  article len  \n",
       "0  2019-04-27 11:12:30.022229         3307  \n",
       "1  2019-04-27 11:12:30.022229         1248  "
      ]
     },
     "execution_count": 14,
     "metadata": {},
     "output_type": "execute_result"
    }
   ],
   "source": [
    "train_df.head(2)"
   ]
  },
  {
   "cell_type": "code",
   "execution_count": 15,
   "metadata": {},
   "outputs": [
    {
     "name": "stdout",
     "output_type": "stream",
     "text": [
      "number of article in train data 5\n"
     ]
    }
   ],
   "source": [
    "print('number of article in train data',len(train_df))\n"
   ]
  },
  {
   "cell_type": "code",
   "execution_count": 16,
   "metadata": {},
   "outputs": [
    {
     "data": {
      "image/png": "[encoded data removed]",
      "text/plain": [
       "<Figure size 432x288 with 1 Axes>"
      ]
     },
     "metadata": {
      "needs_background": "light"
     },
     "output_type": "display_data"
    }
   ],
   "source": [
    "fig, ax = plt.subplots()\n",
    "train_df['article len'].plot(ax=ax, kind='bar')\n",
    "plt.title('distribution of document overs authors')\n",
    "plt.show()"
   ]
  },
  {
   "cell_type": "code",
   "execution_count": null,
   "metadata": {},
   "outputs": [],
   "source": []
  },
  {
   "cell_type": "code",
   "execution_count": 17,
   "metadata": {},
   "outputs": [],
   "source": [
    "def vocab_distribution(all_words):\n",
    "    aa = pd.DataFrame(all_words).reset_index()\n",
    "    aa = aa.rename(columns= {'index': 'vocab',0:'freq'})\n",
    "    aa.set_index('vocab',inplace = True)\n",
    "    all_words = aa.sort_values(by='freq', ascending=False)\n",
    "    print('top 10 words based on freq',all_words[:10])\n",
    "    fig, ax = plt.subplots()\n",
    "    all_words[:20].plot(ax=ax, kind='bar')\n",
    "    plt.title('top 10 words distribution')\n",
    "    plt.show()"
   ]
  },
  {
   "cell_type": "code",
   "execution_count": 18,
   "metadata": {},
   "outputs": [
    {
     "name": "stdout",
     "output_type": "stream",
     "text": [
      "top 10 words based on freq        freq\n",
      "vocab      \n",
      "the     123\n",
      "to       84\n",
      "of       74\n",
      "and      73\n",
      "in       55\n",
      "is       37\n",
      "a        35\n",
      "The      21\n",
      "that     19\n",
      "for      19\n"
     ]
    },
    {
     "data": {
      "image/png": "[encoded data removed]",
      "text/plain": [
       "<Figure size 432x288 with 1 Axes>"
      ]
     },
     "metadata": {
      "needs_background": "light"
     },
     "output_type": "display_data"
    }
   ],
   "source": [
    "all_words = train_df['Article'].str.split(expand=True).unstack().value_counts()\n",
    "len(all_words)\n",
    "vocab_distribution(all_words)"
   ]
  },
  {
   "cell_type": "markdown",
   "metadata": {},
   "source": [
    "all these words are part of speech, stop words. Not giving any idea of topic discussed in news article. So cleaning is required."
   ]
  },
  {
   "cell_type": "code",
   "execution_count": 22,
   "metadata": {},
   "outputs": [
    {
     "name": "stdout",
     "output_type": "stream",
     "text": [
      "The autoreload extension is already loaded. To reload it, use:\n",
      "  %reload_ext autoreload\n"
     ]
    }
   ],
   "source": [
    "%load_ext autoreload\n",
    "%autoreload 2\n",
    "%aimport text_preprocessing"
   ]
  },
  {
   "cell_type": "code",
   "execution_count": null,
   "metadata": {},
   "outputs": [],
   "source": []
  },
  {
   "cell_type": "code",
   "execution_count": 23,
   "metadata": {},
   "outputs": [
    {
     "name": "stdout",
     "output_type": "stream",
     "text": [
      "                                               Title  \\\n",
      "0  An ambitious drone delivery health service in ...   \n",
      "1  MTN will list on the Nigerian Stock Exchange—b...   \n",
      "2  How Nigerian universities can reverse their ye...   \n",
      "3  The fossils of Africa’s ‘big lion’ were hidden...   \n",
      "4  Scientists say we can’t be certain why Lake Ch...   \n",
      "\n",
      "                                        Author  \\\n",
      "0                          Kwasi Gyamfi Asiedu   \n",
      "1                                  Yomi Kazeem   \n",
      "2                        Isaac Adebayo Adeyemi   \n",
      "3                             Abdi Latif Dahir   \n",
      "4  Frederi G. Viens, Michigan State University   \n",
      "\n",
      "                                            PageLink  \\\n",
      "0  http://qz.com/africa/1604374/ziplines-drone-de...   \n",
      "1  http://qz.com/africa/1603394/mtn-nigeria-ipo-t...   \n",
      "2  http://qz.com/africa/1603479/nigerian-universi...   \n",
      "3  http://qz.com/africa/1603323/big-lion-fossil-f...   \n",
      "4  http://qz.com/africa/1603258/scientists-arent-...   \n",
      "\n",
      "                                             Article  \\\n",
      "0  The Ghana Health Service is working with Zipli...   \n",
      "1  But as Quartz Africa has reported, MTN began r...   \n",
      "2  In the last 40 years government funding in the...   \n",
      "3  In 2010, Ohio University paleontologist Nancy ...   \n",
      "4  This second study had a geopolitical angle: if...   \n",
      "\n",
      "                         Date  article len  \\\n",
      "0  2019-04-27 11:12:30.022229         3307   \n",
      "1  2019-04-27 11:12:30.022229         1248   \n",
      "2  2019-04-27 11:12:30.022229         5278   \n",
      "3  2019-04-27 11:12:30.022229         1689   \n",
      "4  2019-04-27 11:12:30.022229         4284   \n",
      "\n",
      "                                    nltk_after_clean  \n",
      "0  ghana health service working zipline drone com...  \n",
      "1  quartz africa reported mtn began rethinking pl...  \n",
      "2  last 40 years government funding education sec...  \n",
      "3  2010 ohio university paleontologist nancy stev...  \n",
      "4  second study geopolitical angle : lake ills co...  \n"
     ]
    }
   ],
   "source": [
    "train_df = text_preprocessing.text_preprocessing(train_df,'Article')\n",
    "print(train_df.head())\n"
   ]
  },
  {
   "cell_type": "code",
   "execution_count": 24,
   "metadata": {},
   "outputs": [
    {
     "name": "stdout",
     "output_type": "stream",
     "text": [
      "vocab size 902\n",
      "top 10 words based on freq               freq\n",
      "vocab             \n",
      "education       21\n",
      "lake            21\n",
      "nigeria         17\n",
      "institutions    14\n",
      "also            11\n",
      "chad            10\n",
      "ghana           10\n",
      "health          10\n",
      "years            9\n",
      "government       9\n"
     ]
    },
    {
     "data": {
      "image/png": "[encoded data removed]",
      "text/plain": [
       "<Figure size 432x288 with 1 Axes>"
      ]
     },
     "metadata": {
      "needs_background": "light"
     },
     "output_type": "display_data"
    }
   ],
   "source": [
    "all_words = train_df['nltk_after_clean'].str.split(expand=True).unstack().value_counts()\n",
    "print('vocab size',len(all_words) )\n",
    "vocab_distribution(all_words)"
   ]
  },
  {
   "cell_type": "markdown",
   "metadata": {},
   "source": [
    "now you can see the meaningful words in the documents. Now we will generate document-term matrix, we can use BOW, tf-idf methods for this purpose."
   ]
  },
  {
   "cell_type": "code",
   "execution_count": 28,
   "metadata": {},
   "outputs": [],
   "source": [
    "from sklearn.feature_extraction.text import TfidfVectorizer\n",
    "\n",
    "def doc_word_matrix(text,bag_of_words,tf_idf):\n",
    "    \n",
    "    if bag_of_words:\n",
    "        vectorizer = CountVectorizer(max_df=0.95, \n",
    "                                     min_df=2,\n",
    "                                     stop_words='english',\n",
    "                                     decode_error='ignore')\n",
    "        ct = vectorizer.fit_transform(text)\n",
    "    \n",
    "    \n",
    "    if tf_idf:\n",
    "        vectorizer = TfidfVectorizer(max_df=0.95, \n",
    "                                     min_df=2,\n",
    "                                     stop_words='english',\n",
    "                                     decode_error='ignore')\n",
    "        ct = vectorizer.fit_transform(text)\n",
    "        \n",
    "    return ct, vectorizer"
   ]
  },
  {
   "cell_type": "code",
   "execution_count": 29,
   "metadata": {},
   "outputs": [],
   "source": [
    "#document word BOW\n",
    "text = list(train_df['nltk_after_clean'].values)\n",
    "ct, vectorizer = doc_word_matrix(text,bag_of_words=False,tf_idf= True)"
   ]
  },
  {
   "cell_type": "code",
   "execution_count": 30,
   "metadata": {},
   "outputs": [
    {
     "name": "stdout",
     "output_type": "stream",
     "text": [
      "vocab length 101\n",
      "shape of BOW matrix (5, 101)\n",
      "distribution of vocab over documents [0.19325956 0.21060118 0.11944663 0.11944663 0.21520579 0.11944663\n",
      " 0.13218375 0.75300442 0.32532763 0.34954695 0.13678825 0.2735765\n",
      " 0.22630483 0.13678825 0.19325956 0.13678825 0.16121127 0.67651902\n",
      " 0.45223097 0.13678825 0.50136126 0.13678825 0.24349775 0.13678825\n",
      " 0.46397303 0.13678825 0.22794292 0.21155093 0.38112315 0.18147219\n",
      " 0.65262809 0.62976671 0.11944663 0.22794292 0.24070003 0.57881516\n",
      " 0.36378153 0.28901873 0.2106013  0.26802236 0.11944663 0.19786406\n",
      " 0.19325956 0.32909806 0.34833918 0.13678825 0.47862366 0.20694644\n",
      " 0.21155093 0.19881381 0.21190972 0.22794292 0.46917474 0.43742616\n",
      " 0.33925692 0.30552332 0.8539699  0.56615625 0.20694644 0.13678825\n",
      " 0.13678825 0.13678825 0.28536387 0.16121127 0.13678825 0.19786406\n",
      " 0.25988962 0.33925692 0.11944663 0.11944663 0.13678825 0.13678825\n",
      " 0.13678825 0.34367367 0.11944663 0.28901873 0.13218375 0.13678825\n",
      " 0.36754888 0.3081017  0.18960482 0.13218375 0.20694644 0.33560206\n",
      " 0.11944663 0.21155093 0.21520579 0.32909806 0.13218375 0.41630642\n",
      " 0.13678825 0.28170912 0.26083937 0.28757632 0.11944663 0.13218375\n",
      " 0.21060118 0.28533084 0.23687788 0.34660234 0.64688726]\n"
     ]
    }
   ],
   "source": [
    "#extracting features\n",
    "feature_names = vectorizer.get_feature_names()\n",
    "count_vec = np.asarray(ct.sum(axis=0)).ravel()\n",
    "print('vocab length',len(feature_names))\n",
    "print('shape of BOW matrix',ct.shape)\n",
    "\n",
    "print('distribution of vocab over documents',count_vec)\n"
   ]
  },
  {
   "cell_type": "code",
   "execution_count": 31,
   "metadata": {},
   "outputs": [
    {
     "name": "stdout",
     "output_type": "stream",
     "text": [
      "['nigeria' 'africa' 'change' 'ghana' 'years' 'government' 'health'\n",
      " 'nigerian' 'company' 'like' 'million' 'delivery' 'climate' 'money'\n",
      " 'university' 'uphill' 'according' 'scale' 'severe' 'trying' 'water'\n",
      " '2014' '2016' '30' 'governments' 'infrastructure' 'range' 'rates' 'road'\n",
      " 'states'] [0.8539699  0.75300442 0.67651902 0.65262809 0.64688726 0.62976671\n",
      " 0.57881516 0.56615625 0.50136126 0.47862366 0.46917474 0.46397303\n",
      " 0.45223097 0.43742616 0.41630642 0.13678825 0.13218375 0.13218375\n",
      " 0.13218375 0.13218375 0.13218375 0.11944663 0.11944663 0.11944663\n",
      " 0.11944663 0.11944663 0.11944663 0.11944663 0.11944663 0.11944663]\n"
     ]
    }
   ],
   "source": [
    "#top words\n",
    "zipped = list(zip(feature_names, count_vec))\n",
    "# print(zipped)\n",
    "x, y = (list(x) for x in zip(*sorted(zipped, key=lambda x: x[1], reverse=True)))\n",
    "# print(y)\n",
    "# Now I want to extract out on the top 15 and bottom 15 words\n",
    "Y = np.concatenate([y[0:15], y[-16:-1]])\n",
    "X = np.concatenate([x[0:15], x[-16:-1]])\n",
    "print(X,Y)"
   ]
  },
  {
   "cell_type": "markdown",
   "metadata": {},
   "source": [
    "# LSA "
   ]
  },
  {
   "cell_type": "markdown",
   "metadata": {},
   "source": [
    "# LSA is used to find hidden latent variable( topic ) in documents, it use SVD for that purpose."
   ]
  },
  {
   "cell_type": "code",
   "execution_count": 33,
   "metadata": {},
   "outputs": [],
   "source": [
    "from sklearn.feature_extraction.text import TfidfVectorizer\n",
    "from sklearn.decomposition import TruncatedSVD\n",
    "from sklearn.pipeline import Pipeline\n",
    "\n",
    "  \n",
    "# raw documents to bag_of_words matrix:\n",
    "vectorizer, small_document_term_matrix = ct, vectorizer = doc_word_matrix(text,bag_of_words=False,tf_idf= True)\n",
    "\n",
    "# SVD to reduce dimensionality: \n",
    "svd_model = TruncatedSVD(n_components=3,         # num dimensions\n",
    "                         algorithm='randomized',\n",
    "                         n_iter=10)\n",
    "# pipeline of tf-idf + SVD, fit to and applied to documents:\n",
    "svd_transformer = Pipeline([('tfidf', vectorizer), \n",
    "                            ('svd', svd_model)])\n",
    "svd_matrix = svd_transformer.fit_transform(text)"
   ]
  },
  {
   "cell_type": "code",
   "execution_count": 34,
   "metadata": {},
   "outputs": [],
   "source": [
    "# Define helper functions\n",
    "def get_keys(topic_matrix):\n",
    "    '''\n",
    "    returns an integer list of predicted topic \n",
    "    categories for a given topic matrix\n",
    "    '''\n",
    "    keys = topic_matrix.argmax(axis=1).tolist()\n",
    "    return keys\n",
    "\n",
    "def keys_to_counts(keys):\n",
    "    '''\n",
    "    returns a tuple of topic categories and their \n",
    "    accompanying magnitudes for a given list of keys\n",
    "    '''\n",
    "    count_pairs = Counter(keys).items()\n",
    "    categories = [pair[0] for pair in count_pairs]\n",
    "    counts = [pair[1] for pair in count_pairs]\n",
    "    return (categories, counts)"
   ]
  },
  {
   "cell_type": "code",
   "execution_count": 35,
   "metadata": {},
   "outputs": [],
   "source": [
    "lsa_keys = get_keys(svd_matrix)\n",
    "lsa_categories, lsa_counts = keys_to_counts(lsa_keys)"
   ]
  },
  {
   "cell_type": "code",
   "execution_count": 36,
   "metadata": {},
   "outputs": [],
   "source": [
    "# Define helper functions\n",
    "def get_top_n_words(n, keys, document_term_matrix, count_vectorizer):\n",
    "    '''\n",
    "    returns a list of n_topic strings, where each string contains the n most common \n",
    "    words in a predicted category, in order\n",
    "    '''\n",
    "    n_topics = 3\n",
    "    top_word_indices = []\n",
    "    for topic in range(n_topics):\n",
    "        temp_vector_sum = 0\n",
    "        for i in range(len(keys)):\n",
    "            if keys[i] == topic:\n",
    "                temp_vector_sum += document_term_matrix[i]\n",
    "        temp_vector_sum = temp_vector_sum.toarray()\n",
    "        top_n_word_indices = np.flip(np.argsort(temp_vector_sum)[0][-n:],0)\n",
    "        top_word_indices.append(top_n_word_indices)   \n",
    "    top_words = []\n",
    "    for topic in top_word_indices:\n",
    "        topic_words = []\n",
    "        for index in topic:\n",
    "            temp_word_vector = np.zeros((1,document_term_matrix.shape[1]))\n",
    "            temp_word_vector[:,index] = 1\n",
    "            the_word = count_vectorizer.inverse_transform(temp_word_vector)[0][0]\n",
    "            topic_words.append(the_word.encode('ascii').decode('utf-8'))\n",
    "        top_words.append(\" \".join(topic_words))         \n",
    "    return top_words"
   ]
  },
  {
   "cell_type": "code",
   "execution_count": 49,
   "metadata": {},
   "outputs": [
    {
     "name": "stdout",
     "output_type": "stream",
     "text": [
      "Topic 1:  nigeria ghana government health company africa delivery money nigerian sector\n",
      "Topic 2:  change climate levels use work nigerian university students economic plan\n",
      "Topic 3:  years like findings help africa ago massive quality great saw\n"
     ]
    }
   ],
   "source": [
    "lsa_topic = []\n",
    "top_n_words_lsa = get_top_n_words(10, lsa_keys, ct, vectorizer)\n",
    "\n",
    "for i in range(len(top_n_words_lsa)):\n",
    "    print(\"Topic {}: \".format(i+1), top_n_words_lsa[i])\n",
    "    lsa_topic.append(top_n_words_lsa[i])"
   ]
  },
  {
   "cell_type": "markdown",
   "metadata": {},
   "source": [
    "these are  topics we have extracted from the documents using LSA , next we will see LDA to use it. LDA uses drichilit distribution."
   ]
  },
  {
   "cell_type": "code",
   "execution_count": 39,
   "metadata": {},
   "outputs": [
    {
     "data": {
      "image/png": "[encoded data removed]",
      "text/plain": [
       "<Figure size 1152x576 with 1 Axes>"
      ]
     },
     "metadata": {
      "needs_background": "light"
     },
     "output_type": "display_data"
    }
   ],
   "source": [
    "top_3_words = get_top_n_words(3, lsa_keys, ct, vectorizer)\n",
    "labels = ['Topic {}: \\n'.format(i) + top_3_words[i] for i in lsa_categories]\n",
    "\n",
    "fig, ax = plt.subplots(figsize=(16,8))\n",
    "ax.bar(lsa_categories, lsa_counts);\n",
    "ax.set_xticks(lsa_categories);\n",
    "ax.set_xticklabels(labels);\n",
    "ax.set_ylabel('Number of headlines');\n",
    "ax.set_title('LSA topic counts');\n",
    "plt.show()"
   ]
  },
  {
   "cell_type": "code",
   "execution_count": 40,
   "metadata": {},
   "outputs": [
    {
     "name": "stdout",
     "output_type": "stream",
     "text": [
      "[t-SNE] Computing 4 nearest neighbors...\n",
      "[t-SNE] Indexed 5 samples in 0.000s...\n",
      "[t-SNE] Computed neighbors for 5 samples in 0.000s...\n",
      "[t-SNE] Computed conditional probabilities for sample 5 / 5\n",
      "[t-SNE] Mean sigma: 1125899906842624.000000\n",
      "[t-SNE] KL divergence after 250 iterations with early exaggeration: 54.922340\n",
      "[t-SNE] KL divergence after 650 iterations: 0.103415\n"
     ]
    }
   ],
   "source": [
    "from sklearn.manifold import TSNE\n",
    "\n",
    "tsne_lsa_model = TSNE(n_components=2, perplexity=50, learning_rate=100, \n",
    "                        n_iter=2500, verbose=1, random_state=0, angle=0.75)\n",
    "tsne_lsa_vectors = tsne_lsa_model.fit_transform(svd_matrix)"
   ]
  },
  {
   "cell_type": "markdown",
   "metadata": {},
   "source": [
    "t-SNE, or t-distributed stochastic neighbor embedding, is a dimensionality reduction algorithm for high-dimensional data visualization. This is partly to mitigate the fact that human cannot (at least not now) perceive vector space that is beyond 3-D."
   ]
  },
  {
   "cell_type": "code",
   "execution_count": 41,
   "metadata": {},
   "outputs": [],
   "source": [
    "# Define helper functions\n",
    "def get_mean_topic_vectors(keys, two_dim_vectors):\n",
    "    '''\n",
    "    returns a list of centroid vectors from each predicted topic category\n",
    "    '''\n",
    "    mean_topic_vectors = []\n",
    "    for t in range(n_topics):\n",
    "        articles_in_that_topic = []\n",
    "        for i in range(len(keys)):\n",
    "            if keys[i] == t:\n",
    "                articles_in_that_topic.append(two_dim_vectors[i])    \n",
    "        \n",
    "        articles_in_that_topic = np.vstack(articles_in_that_topic)\n",
    "        mean_article_in_that_topic = np.mean(articles_in_that_topic, axis=0)\n",
    "        mean_topic_vectors.append(mean_article_in_that_topic)\n",
    "    return mean_topic_vectors"
   ]
  },
  {
   "cell_type": "code",
   "execution_count": 42,
   "metadata": {},
   "outputs": [],
   "source": [
    "n_topics  = 3\n",
    "colormap = np.array([\n",
    "    \"#1f77b4\", \"#aec7e8\", \"#ff7f0e\", \"#ffbb78\", \"#2ca02c\",\n",
    "    \"#98df8a\", \"#d62728\", \"#ff9896\", \"#9467bd\", \"#c5b0d5\",\n",
    "    \"#8c564b\", \"#c49c94\", \"#e377c2\", \"#f7b6d2\", \"#7f7f7f\",\n",
    "    \"#c7c7c7\", \"#bcbd22\", \"#dbdb8d\", \"#17becf\", \"#9edae5\" ])\n",
    "colormap = colormap[:n_topics]"
   ]
  },
  {
   "cell_type": "code",
   "execution_count": 43,
   "metadata": {},
   "outputs": [
    {
     "data": {
      "text/html": [
       "\n",
       "    <div class=\"bk-root\">\n",
       "        <a href=\"https://bokeh.pydata.org\" target=\"_blank\" class=\"bk-logo bk-logo-small bk-logo-notebook\"></a>\n",
       "        <span id=\"1001\">Loading BokehJS ...</span>\n",
       "    </div>"
      ]
     },
     "metadata": {},
     "output_type": "display_data"
    },
    {
     "data": {
      "application/javascript": [
       "\n",
       "(function(root) {\n",
       "  function now() {\n",
       "    return new Date();\n",
       "  }\n",
       "\n",
       "  var force = true;\n",
       "\n",
       "  if (typeof root._bokeh_onload_callbacks === \"undefined\" || force === true) {\n",
       "    root._bokeh_onload_callbacks = [];\n",
       "    root._bokeh_is_loading = undefined;\n",
       "  }\n",
       "\n",
       "  var JS_MIME_TYPE = 'application/javascript';\n",
       "  var HTML_MIME_TYPE = 'text/html';\n",
       "  var EXEC_MIME_TYPE = 'application/vnd.bokehjs_exec.v0+json';\n",
       "  var CLASS_NAME = 'output_bokeh rendered_html';\n",
       "\n",
       "  /**\n",
       "   * Render data to the DOM node\n",
       "   */\n",
       "  function render(props, node) {\n",
       "    var script = document.createElement(\"script\");\n",
       "    node.appendChild(script);\n",
       "  }\n",
       "\n",
       "  /**\n",
       "   * Handle when an output is cleared or removed\n",
       "   */\n",
       "  function handleClearOutput(event, handle) {\n",
       "    var cell = handle.cell;\n",
       "\n",
       "    var id = cell.output_area._bokeh_element_id;\n",
       "    var server_id = cell.output_area._bokeh_server_id;\n",
       "    // Clean up Bokeh references\n",
       "    if (id != null && id in Bokeh.index) {\n",
       "      Bokeh.index[id].model.document.clear();\n",
       "      delete Bokeh.index[id];\n",
       "    }\n",
       "\n",
       "    if (server_id !== undefined) {\n",
       "      // Clean up Bokeh references\n",
       "      var cmd = \"from bokeh.io.state import curstate; print(curstate().uuid_to_server['\" + server_id + \"'].get_sessions()[0].document.roots[0]._id)\";\n",
       "      cell.notebook.kernel.execute(cmd, {\n",
       "        iopub: {\n",
       "          output: function(msg) {\n",
       "            var id = msg.content.text.trim();\n",
       "            if (id in Bokeh.index) {\n",
       "              Bokeh.index[id].model.document.clear();\n",
       "              delete Bokeh.index[id];\n",
       "            }\n",
       "          }\n",
       "        }\n",
       "      });\n",
       "      // Destroy server and session\n",
       "      var cmd = \"import bokeh.io.notebook as ion; ion.destroy_server('\" + server_id + \"')\";\n",
       "      cell.notebook.kernel.execute(cmd);\n",
       "    }\n",
       "  }\n",
       "\n",
       "  /**\n",
       "   * Handle when a new output is added\n",
       "   */\n",
       "  function handleAddOutput(event, handle) {\n",
       "    var output_area = handle.output_area;\n",
       "    var output = handle.output;\n",
       "\n",
       "    // limit handleAddOutput to display_data with EXEC_MIME_TYPE content only\n",
       "    if ((output.output_type != \"display_data\") || (!output.data.hasOwnProperty(EXEC_MIME_TYPE))) {\n",
       "      return\n",
       "    }\n",
       "\n",
       "    var toinsert = output_area.element.find(\".\" + CLASS_NAME.split(' ')[0]);\n",
       "\n",
       "    if (output.metadata[EXEC_MIME_TYPE][\"id\"] !== undefined) {\n",
       "      toinsert[toinsert.length - 1].firstChild.textContent = output.data[JS_MIME_TYPE];\n",
       "      // store reference to embed id on output_area\n",
       "      output_area._bokeh_element_id = output.metadata[EXEC_MIME_TYPE][\"id\"];\n",
       "    }\n",
       "    if (output.metadata[EXEC_MIME_TYPE][\"server_id\"] !== undefined) {\n",
       "      var bk_div = document.createElement(\"div\");\n",
       "      bk_div.innerHTML = output.data[HTML_MIME_TYPE];\n",
       "      var script_attrs = bk_div.children[0].attributes;\n",
       "      for (var i = 0; i < script_attrs.length; i++) {\n",
       "        toinsert[toinsert.length - 1].firstChild.setAttribute(script_attrs[i].name, script_attrs[i].value);\n",
       "      }\n",
       "      // store reference to server id on output_area\n",
       "      output_area._bokeh_server_id = output.metadata[EXEC_MIME_TYPE][\"server_id\"];\n",
       "    }\n",
       "  }\n",
       "\n",
       "  function register_renderer(events, OutputArea) {\n",
       "\n",
       "    function append_mime(data, metadata, element) {\n",
       "      // create a DOM node to render to\n",
       "      var toinsert = this.create_output_subarea(\n",
       "        metadata,\n",
       "        CLASS_NAME,\n",
       "        EXEC_MIME_TYPE\n",
       "      );\n",
       "      this.keyboard_manager.register_events(toinsert);\n",
       "      // Render to node\n",
       "      var props = {data: data, metadata: metadata[EXEC_MIME_TYPE]};\n",
       "      render(props, toinsert[toinsert.length - 1]);\n",
       "      element.append(toinsert);\n",
       "      return toinsert\n",
       "    }\n",
       "\n",
       "    /* Handle when an output is cleared or removed */\n",
       "    events.on('clear_output.CodeCell', handleClearOutput);\n",
       "    events.on('delete.Cell', handleClearOutput);\n",
       "\n",
       "    /* Handle when a new output is added */\n",
       "    events.on('output_added.OutputArea', handleAddOutput);\n",
       "\n",
       "    /**\n",
       "     * Register the mime type and append_mime function with output_area\n",
       "     */\n",
       "    OutputArea.prototype.register_mime_type(EXEC_MIME_TYPE, append_mime, {\n",
       "      /* Is output safe? */\n",
       "      safe: true,\n",
       "      /* Index of renderer in `output_area.display_order` */\n",
       "      index: 0\n",
       "    });\n",
       "  }\n",
       "\n",
       "  // register the mime type if in Jupyter Notebook environment and previously unregistered\n",
       "  if (root.Jupyter !== undefined) {\n",
       "    var events = require('base/js/events');\n",
       "    var OutputArea = require('notebook/js/outputarea').OutputArea;\n",
       "\n",
       "    if (OutputArea.prototype.mime_types().indexOf(EXEC_MIME_TYPE) == -1) {\n",
       "      register_renderer(events, OutputArea);\n",
       "    }\n",
       "  }\n",
       "\n",
       "  \n",
       "  if (typeof (root._bokeh_timeout) === \"undefined\" || force === true) {\n",
       "    root._bokeh_timeout = Date.now() + 5000;\n",
       "    root._bokeh_failed_load = false;\n",
       "  }\n",
       "\n",
       "  var NB_LOAD_WARNING = {'data': {'text/html':\n",
       "     \"<div style='background-color: #fdd'>\\n\"+\n",
       "     \"<p>\\n\"+\n",
       "     \"BokehJS does not appear to have successfully loaded. If loading BokehJS from CDN, this \\n\"+\n",
       "     \"may be due to a slow or bad network connection. Possible fixes:\\n\"+\n",
       "     \"</p>\\n\"+\n",
       "     \"<ul>\\n\"+\n",
       "     \"<li>re-rerun `output_notebook()` to attempt to load from CDN again, or</li>\\n\"+\n",
       "     \"<li>use INLINE resources instead, as so:</li>\\n\"+\n",
       "     \"</ul>\\n\"+\n",
       "     \"<code>\\n\"+\n",
       "     \"from bokeh.resources import INLINE\\n\"+\n",
       "     \"output_notebook(resources=INLINE)\\n\"+\n",
       "     \"</code>\\n\"+\n",
       "     \"</div>\"}};\n",
       "\n",
       "  function display_loaded() {\n",
       "    var el = document.getElementById(\"1001\");\n",
       "    if (el != null) {\n",
       "      el.textContent = \"BokehJS is loading...\";\n",
       "    }\n",
       "    if (root.Bokeh !== undefined) {\n",
       "      if (el != null) {\n",
       "        el.textContent = \"BokehJS \" + root.Bokeh.version + \" successfully loaded.\";\n",
       "      }\n",
       "    } else if (Date.now() < root._bokeh_timeout) {\n",
       "      setTimeout(display_loaded, 100)\n",
       "    }\n",
       "  }\n",
       "\n",
       "\n",
       "  function run_callbacks() {\n",
       "    try {\n",
       "      root._bokeh_onload_callbacks.forEach(function(callback) {\n",
       "        if (callback != null)\n",
       "          callback();\n",
       "      });\n",
       "    } finally {\n",
       "      delete root._bokeh_onload_callbacks\n",
       "    }\n",
       "    console.debug(\"Bokeh: all callbacks have finished\");\n",
       "  }\n",
       "\n",
       "  function load_libs(css_urls, js_urls, callback) {\n",
       "    if (css_urls == null) css_urls = [];\n",
       "    if (js_urls == null) js_urls = [];\n",
       "\n",
       "    root._bokeh_onload_callbacks.push(callback);\n",
       "    if (root._bokeh_is_loading > 0) {\n",
       "      console.debug(\"Bokeh: BokehJS is being loaded, scheduling callback at\", now());\n",
       "      return null;\n",
       "    }\n",
       "    if (js_urls == null || js_urls.length === 0) {\n",
       "      run_callbacks();\n",
       "      return null;\n",
       "    }\n",
       "    console.debug(\"Bokeh: BokehJS not loaded, scheduling load and callback at\", now());\n",
       "    root._bokeh_is_loading = css_urls.length + js_urls.length;\n",
       "\n",
       "    function on_load() {\n",
       "      root._bokeh_is_loading--;\n",
       "      if (root._bokeh_is_loading === 0) {\n",
       "        console.debug(\"Bokeh: all BokehJS libraries/stylesheets loaded\");\n",
       "        run_callbacks()\n",
       "      }\n",
       "    }\n",
       "\n",
       "    function on_error() {\n",
       "      console.error(\"failed to load \" + url);\n",
       "    }\n",
       "\n",
       "    for (var i = 0; i < css_urls.length; i++) {\n",
       "      var url = css_urls[i];\n",
       "      const element = document.createElement(\"link\");\n",
       "      element.onload = on_load;\n",
       "      element.onerror = on_error;\n",
       "      element.rel = \"stylesheet\";\n",
       "      element.type = \"text/css\";\n",
       "      element.href = url;\n",
       "      console.debug(\"Bokeh: injecting link tag for BokehJS stylesheet: \", url);\n",
       "      document.body.appendChild(element);\n",
       "    }\n",
       "\n",
       "    for (var i = 0; i < js_urls.length; i++) {\n",
       "      var url = js_urls[i];\n",
       "      var element = document.createElement('script');\n",
       "      element.onload = on_load;\n",
       "      element.onerror = on_error;\n",
       "      element.async = false;\n",
       "      element.src = url;\n",
       "      console.debug(\"Bokeh: injecting script tag for BokehJS library: \", url);\n",
       "      document.head.appendChild(element);\n",
       "    }\n",
       "  };var element = document.getElementById(\"1001\");\n",
       "  if (element == null) {\n",
       "    console.error(\"Bokeh: ERROR: autoload.js configured with elementid '1001' but no matching script tag was found. \")\n",
       "    return false;\n",
       "  }\n",
       "\n",
       "  function inject_raw_css(css) {\n",
       "    const element = document.createElement(\"style\");\n",
       "    element.appendChild(document.createTextNode(css));\n",
       "    document.body.appendChild(element);\n",
       "  }\n",
       "\n",
       "  var js_urls = [\"https://cdn.pydata.org/bokeh/release/bokeh-1.1.0.min.js\", \"https://cdn.pydata.org/bokeh/release/bokeh-widgets-1.1.0.min.js\", \"https://cdn.pydata.org/bokeh/release/bokeh-tables-1.1.0.min.js\", \"https://cdn.pydata.org/bokeh/release/bokeh-gl-1.1.0.min.js\"];\n",
       "  var css_urls = [\"https://cdn.pydata.org/bokeh/release/bokeh-1.1.0.min.css\", \"https://cdn.pydata.org/bokeh/release/bokeh-widgets-1.1.0.min.css\", \"https://cdn.pydata.org/bokeh/release/bokeh-tables-1.1.0.min.css\"];\n",
       "\n",
       "  var inline_js = [\n",
       "    function(Bokeh) {\n",
       "      Bokeh.set_log_level(\"info\");\n",
       "    },\n",
       "    \n",
       "    function(Bokeh) {\n",
       "      \n",
       "    },\n",
       "    function(Bokeh) {} // ensure no trailing comma for IE\n",
       "  ];\n",
       "\n",
       "  function run_inline_js() {\n",
       "    \n",
       "    if ((root.Bokeh !== undefined) || (force === true)) {\n",
       "      for (var i = 0; i < inline_js.length; i++) {\n",
       "        inline_js[i].call(root, root.Bokeh);\n",
       "      }if (force === true) {\n",
       "        display_loaded();\n",
       "      }} else if (Date.now() < root._bokeh_timeout) {\n",
       "      setTimeout(run_inline_js, 100);\n",
       "    } else if (!root._bokeh_failed_load) {\n",
       "      console.log(\"Bokeh: BokehJS failed to load within specified timeout.\");\n",
       "      root._bokeh_failed_load = true;\n",
       "    } else if (force !== true) {\n",
       "      var cell = $(document.getElementById(\"1001\")).parents('.cell').data().cell;\n",
       "      cell.output_area.append_execute_result(NB_LOAD_WARNING)\n",
       "    }\n",
       "\n",
       "  }\n",
       "\n",
       "  if (root._bokeh_is_loading === 0) {\n",
       "    console.debug(\"Bokeh: BokehJS loaded, going straight to plotting\");\n",
       "    run_inline_js();\n",
       "  } else {\n",
       "    load_libs(css_urls, js_urls, function() {\n",
       "      console.debug(\"Bokeh: BokehJS plotting callback run at\", now());\n",
       "      run_inline_js();\n",
       "    });\n",
       "  }\n",
       "}(window));"
      ],
      "application/vnd.bokehjs_load.v0+json": "\n(function(root) {\n  function now() {\n    return new Date();\n  }\n\n  var force = true;\n\n  if (typeof root._bokeh_onload_callbacks === \"undefined\" || force === true) {\n    root._bokeh_onload_callbacks = [];\n    root._bokeh_is_loading = undefined;\n  }\n\n  \n\n  \n  if (typeof (root._bokeh_timeout) === \"undefined\" || force === true) {\n    root._bokeh_timeout = Date.now() + 5000;\n    root._bokeh_failed_load = false;\n  }\n\n  var NB_LOAD_WARNING = {'data': {'text/html':\n     \"<div style='background-color: #fdd'>\\n\"+\n     \"<p>\\n\"+\n     \"BokehJS does not appear to have successfully loaded. If loading BokehJS from CDN, this \\n\"+\n     \"may be due to a slow or bad network connection. Possible fixes:\\n\"+\n     \"</p>\\n\"+\n     \"<ul>\\n\"+\n     \"<li>re-rerun `output_notebook()` to attempt to load from CDN again, or</li>\\n\"+\n     \"<li>use INLINE resources instead, as so:</li>\\n\"+\n     \"</ul>\\n\"+\n     \"<code>\\n\"+\n     \"from bokeh.resources import INLINE\\n\"+\n     \"output_notebook(resources=INLINE)\\n\"+\n     \"</code>\\n\"+\n     \"</div>\"}};\n\n  function display_loaded() {\n    var el = document.getElementById(\"1001\");\n    if (el != null) {\n      el.textContent = \"BokehJS is loading...\";\n    }\n    if (root.Bokeh !== undefined) {\n      if (el != null) {\n        el.textContent = \"BokehJS \" + root.Bokeh.version + \" successfully loaded.\";\n      }\n    } else if (Date.now() < root._bokeh_timeout) {\n      setTimeout(display_loaded, 100)\n    }\n  }\n\n\n  function run_callbacks() {\n    try {\n      root._bokeh_onload_callbacks.forEach(function(callback) {\n        if (callback != null)\n          callback();\n      });\n    } finally {\n      delete root._bokeh_onload_callbacks\n    }\n    console.debug(\"Bokeh: all callbacks have finished\");\n  }\n\n  function load_libs(css_urls, js_urls, callback) {\n    if (css_urls == null) css_urls = [];\n    if (js_urls == null) js_urls = [];\n\n    root._bokeh_onload_callbacks.push(callback);\n    if (root._bokeh_is_loading > 0) {\n      console.debug(\"Bokeh: BokehJS is being loaded, scheduling callback at\", now());\n      return null;\n    }\n    if (js_urls == null || js_urls.length === 0) {\n      run_callbacks();\n      return null;\n    }\n    console.debug(\"Bokeh: BokehJS not loaded, scheduling load and callback at\", now());\n    root._bokeh_is_loading = css_urls.length + js_urls.length;\n\n    function on_load() {\n      root._bokeh_is_loading--;\n      if (root._bokeh_is_loading === 0) {\n        console.debug(\"Bokeh: all BokehJS libraries/stylesheets loaded\");\n        run_callbacks()\n      }\n    }\n\n    function on_error() {\n      console.error(\"failed to load \" + url);\n    }\n\n    for (var i = 0; i < css_urls.length; i++) {\n      var url = css_urls[i];\n      const element = document.createElement(\"link\");\n      element.onload = on_load;\n      element.onerror = on_error;\n      element.rel = \"stylesheet\";\n      element.type = \"text/css\";\n      element.href = url;\n      console.debug(\"Bokeh: injecting link tag for BokehJS stylesheet: \", url);\n      document.body.appendChild(element);\n    }\n\n    for (var i = 0; i < js_urls.length; i++) {\n      var url = js_urls[i];\n      var element = document.createElement('script');\n      element.onload = on_load;\n      element.onerror = on_error;\n      element.async = false;\n      element.src = url;\n      console.debug(\"Bokeh: injecting script tag for BokehJS library: \", url);\n      document.head.appendChild(element);\n    }\n  };var element = document.getElementById(\"1001\");\n  if (element == null) {\n    console.error(\"Bokeh: ERROR: autoload.js configured with elementid '1001' but no matching script tag was found. \")\n    return false;\n  }\n\n  function inject_raw_css(css) {\n    const element = document.createElement(\"style\");\n    element.appendChild(document.createTextNode(css));\n    document.body.appendChild(element);\n  }\n\n  var js_urls = [\"https://cdn.pydata.org/bokeh/release/bokeh-1.1.0.min.js\", \"https://cdn.pydata.org/bokeh/release/bokeh-widgets-1.1.0.min.js\", \"https://cdn.pydata.org/bokeh/release/bokeh-tables-1.1.0.min.js\", \"https://cdn.pydata.org/bokeh/release/bokeh-gl-1.1.0.min.js\"];\n  var css_urls = [\"https://cdn.pydata.org/bokeh/release/bokeh-1.1.0.min.css\", \"https://cdn.pydata.org/bokeh/release/bokeh-widgets-1.1.0.min.css\", \"https://cdn.pydata.org/bokeh/release/bokeh-tables-1.1.0.min.css\"];\n\n  var inline_js = [\n    function(Bokeh) {\n      Bokeh.set_log_level(\"info\");\n    },\n    \n    function(Bokeh) {\n      \n    },\n    function(Bokeh) {} // ensure no trailing comma for IE\n  ];\n\n  function run_inline_js() {\n    \n    if ((root.Bokeh !== undefined) || (force === true)) {\n      for (var i = 0; i < inline_js.length; i++) {\n        inline_js[i].call(root, root.Bokeh);\n      }if (force === true) {\n        display_loaded();\n      }} else if (Date.now() < root._bokeh_timeout) {\n      setTimeout(run_inline_js, 100);\n    } else if (!root._bokeh_failed_load) {\n      console.log(\"Bokeh: BokehJS failed to load within specified timeout.\");\n      root._bokeh_failed_load = true;\n    } else if (force !== true) {\n      var cell = $(document.getElementById(\"1001\")).parents('.cell').data().cell;\n      cell.output_area.append_execute_result(NB_LOAD_WARNING)\n    }\n\n  }\n\n  if (root._bokeh_is_loading === 0) {\n    console.debug(\"Bokeh: BokehJS loaded, going straight to plotting\");\n    run_inline_js();\n  } else {\n    load_libs(css_urls, js_urls, function() {\n      console.debug(\"Bokeh: BokehJS plotting callback run at\", now());\n      run_inline_js();\n    });\n  }\n}(window));"
     },
     "metadata": {},
     "output_type": "display_data"
    }
   ],
   "source": [
    "from bokeh.plotting import figure, output_file, show\n",
    "from bokeh.models import Label\n",
    "from bokeh.io import output_notebook\n",
    "output_notebook()"
   ]
  },
  {
   "cell_type": "code",
   "execution_count": 44,
   "metadata": {},
   "outputs": [
    {
     "data": {
      "text/html": [
       "\n",
       "\n",
       "\n",
       "\n",
       "\n",
       "\n",
       "  <div class=\"bk-root\" id=\"a8f94939-880f-498d-aae4-41690bfcda19\" data-root-id=\"1002\"></div>\n"
      ]
     },
     "metadata": {},
     "output_type": "display_data"
    },
    {
     "data": {
      "application/javascript": [
       "(function(root) {\n",
       "  function embed_document(root) {\n",
       "    \n",
       "  var docs_json = {\"09ec83c5-0511-4480-9b42-0bc428190724\":{\"roots\":{\"references\":[{\"attributes\":{\"below\":[{\"id\":\"1013\",\"type\":\"LinearAxis\"}],\"center\":[{\"id\":\"1017\",\"type\":\"Grid\"},{\"id\":\"1022\",\"type\":\"Grid\"},{\"id\":\"1041\",\"type\":\"Label\"},{\"id\":\"1042\",\"type\":\"Label\"},{\"id\":\"1043\",\"type\":\"Label\"}],\"left\":[{\"id\":\"1018\",\"type\":\"LinearAxis\"}],\"plot_height\":700,\"plot_width\":700,\"renderers\":[{\"id\":\"1039\",\"type\":\"GlyphRenderer\"}],\"title\":{\"id\":\"1003\",\"type\":\"Title\"},\"toolbar\":{\"id\":\"1029\",\"type\":\"Toolbar\"},\"x_range\":{\"id\":\"1005\",\"type\":\"DataRange1d\"},\"x_scale\":{\"id\":\"1009\",\"type\":\"LinearScale\"},\"y_range\":{\"id\":\"1007\",\"type\":\"DataRange1d\"},\"y_scale\":{\"id\":\"1011\",\"type\":\"LinearScale\"}},\"id\":\"1002\",\"subtype\":\"Figure\",\"type\":\"Plot\"},{\"attributes\":{\"callback\":null},\"id\":\"1007\",\"type\":\"DataRange1d\"},{\"attributes\":{},\"id\":\"1009\",\"type\":\"LinearScale\"},{\"attributes\":{\"source\":{\"id\":\"1036\",\"type\":\"ColumnDataSource\"}},\"id\":\"1040\",\"type\":\"CDSView\"},{\"attributes\":{},\"id\":\"1011\",\"type\":\"LinearScale\"},{\"attributes\":{\"fill_color\":{\"field\":\"fill_color\"},\"line_color\":{\"field\":\"line_color\"},\"x\":{\"field\":\"x\"},\"y\":{\"field\":\"y\"}},\"id\":\"1037\",\"type\":\"Scatter\"},{\"attributes\":{\"formatter\":{\"id\":\"1045\",\"type\":\"BasicTickFormatter\"},\"ticker\":{\"id\":\"1014\",\"type\":\"BasicTicker\"}},\"id\":\"1013\",\"type\":\"LinearAxis\"},{\"attributes\":{\"text\":\"change climate levels\",\"text_color\":{\"value\":\"#aec7e8\"},\"x\":236.05612182617188,\"y\":185.82183837890625},\"id\":\"1042\",\"type\":\"Label\"},{\"attributes\":{},\"id\":\"1014\",\"type\":\"BasicTicker\"},{\"attributes\":{\"text\":\"years like findings\",\"text_color\":{\"value\":\"#ff7f0e\"},\"x\":561.3970336914062,\"y\":-288.3398742675781},\"id\":\"1043\",\"type\":\"Label\"},{\"attributes\":{\"ticker\":{\"id\":\"1014\",\"type\":\"BasicTicker\"}},\"id\":\"1017\",\"type\":\"Grid\"},{\"attributes\":{},\"id\":\"1045\",\"type\":\"BasicTickFormatter\"},{\"attributes\":{\"formatter\":{\"id\":\"1047\",\"type\":\"BasicTickFormatter\"},\"ticker\":{\"id\":\"1019\",\"type\":\"BasicTicker\"}},\"id\":\"1018\",\"type\":\"LinearAxis\"},{\"attributes\":{},\"id\":\"1047\",\"type\":\"BasicTickFormatter\"},{\"attributes\":{},\"id\":\"1019\",\"type\":\"BasicTicker\"},{\"attributes\":{\"fill_alpha\":{\"value\":0.1},\"fill_color\":{\"value\":\"#1f77b4\"},\"line_alpha\":{\"value\":0.1},\"line_color\":{\"value\":\"#1f77b4\"},\"x\":{\"field\":\"x\"},\"y\":{\"field\":\"y\"}},\"id\":\"1038\",\"type\":\"Scatter\"},{\"attributes\":{},\"id\":\"1049\",\"type\":\"Selection\"},{\"attributes\":{\"dimension\":1,\"ticker\":{\"id\":\"1019\",\"type\":\"BasicTicker\"}},\"id\":\"1022\",\"type\":\"Grid\"},{\"attributes\":{\"data_source\":{\"id\":\"1036\",\"type\":\"ColumnDataSource\"},\"glyph\":{\"id\":\"1037\",\"type\":\"Scatter\"},\"hover_glyph\":null,\"muted_glyph\":null,\"nonselection_glyph\":{\"id\":\"1038\",\"type\":\"Scatter\"},\"selection_glyph\":null,\"view\":{\"id\":\"1040\",\"type\":\"CDSView\"}},\"id\":\"1039\",\"type\":\"GlyphRenderer\"},{\"attributes\":{},\"id\":\"1050\",\"type\":\"UnionRenderers\"},{\"attributes\":{\"active_drag\":\"auto\",\"active_inspect\":\"auto\",\"active_multi\":null,\"active_scroll\":\"auto\",\"active_tap\":\"auto\",\"tools\":[{\"id\":\"1023\",\"type\":\"PanTool\"},{\"id\":\"1024\",\"type\":\"WheelZoomTool\"},{\"id\":\"1025\",\"type\":\"BoxZoomTool\"},{\"id\":\"1026\",\"type\":\"SaveTool\"},{\"id\":\"1027\",\"type\":\"ResetTool\"},{\"id\":\"1028\",\"type\":\"HelpTool\"}]},\"id\":\"1029\",\"type\":\"Toolbar\"},{\"attributes\":{\"bottom_units\":\"screen\",\"fill_alpha\":{\"value\":0.5},\"fill_color\":{\"value\":\"lightgrey\"},\"left_units\":\"screen\",\"level\":\"overlay\",\"line_alpha\":{\"value\":1.0},\"line_color\":{\"value\":\"black\"},\"line_dash\":[4,4],\"line_width\":{\"value\":2},\"render_mode\":\"css\",\"right_units\":\"screen\",\"top_units\":\"screen\"},\"id\":\"1051\",\"type\":\"BoxAnnotation\"},{\"attributes\":{},\"id\":\"1023\",\"type\":\"PanTool\"},{\"attributes\":{},\"id\":\"1024\",\"type\":\"WheelZoomTool\"},{\"attributes\":{\"callback\":null},\"id\":\"1005\",\"type\":\"DataRange1d\"},{\"attributes\":{\"callback\":null,\"data\":{\"fill_color\":[\"#1f77b4\",\"#1f77b4\",\"#1f77b4\",\"#ff7f0e\",\"#aec7e8\"],\"line_color\":[\"#1f77b4\",\"#1f77b4\",\"#1f77b4\",\"#ff7f0e\",\"#aec7e8\"],\"x\":{\"__ndarray__\":\"kkpORE86HkTaQ4VDaVkMRF4ObEM=\",\"dtype\":\"float32\",\"shape\":[5]},\"y\":{\"__ndarray__\":\"DElRwte7gUP3YEzDgSuQw2TSOUM=\",\"dtype\":\"float32\",\"shape\":[5]}},\"selected\":{\"id\":\"1049\",\"type\":\"Selection\"},\"selection_policy\":{\"id\":\"1050\",\"type\":\"UnionRenderers\"}},\"id\":\"1036\",\"type\":\"ColumnDataSource\"},{\"attributes\":{\"overlay\":{\"id\":\"1051\",\"type\":\"BoxAnnotation\"}},\"id\":\"1025\",\"type\":\"BoxZoomTool\"},{\"attributes\":{},\"id\":\"1026\",\"type\":\"SaveTool\"},{\"attributes\":{\"text\":\"t-SNE Clustering of 3 LSA Topics\"},\"id\":\"1003\",\"type\":\"Title\"},{\"attributes\":{},\"id\":\"1027\",\"type\":\"ResetTool\"},{\"attributes\":{},\"id\":\"1028\",\"type\":\"HelpTool\"},{\"attributes\":{\"text\":\"nigeria ghana government\",\"text_color\":{\"value\":\"#1f77b4\"},\"x\":574.8687133789062,\"y\":0.9224650263786316},\"id\":\"1041\",\"type\":\"Label\"}],\"root_ids\":[\"1002\"]},\"title\":\"Bokeh Application\",\"version\":\"1.1.0\"}};\n",
       "  var render_items = [{\"docid\":\"09ec83c5-0511-4480-9b42-0bc428190724\",\"roots\":{\"1002\":\"a8f94939-880f-498d-aae4-41690bfcda19\"}}];\n",
       "  root.Bokeh.embed.embed_items_notebook(docs_json, render_items);\n",
       "\n",
       "  }\n",
       "  if (root.Bokeh !== undefined) {\n",
       "    embed_document(root);\n",
       "  } else {\n",
       "    var attempts = 0;\n",
       "    var timer = setInterval(function(root) {\n",
       "      if (root.Bokeh !== undefined) {\n",
       "        embed_document(root);\n",
       "        clearInterval(timer);\n",
       "      }\n",
       "      attempts++;\n",
       "      if (attempts > 100) {\n",
       "        console.log(\"Bokeh: ERROR: Unable to run BokehJS code because BokehJS library is missing\");\n",
       "        clearInterval(timer);\n",
       "      }\n",
       "    }, 10, root)\n",
       "  }\n",
       "})(window);"
      ],
      "application/vnd.bokehjs_exec.v0+json": ""
     },
     "metadata": {
      "application/vnd.bokehjs_exec.v0+json": {
       "id": "1002"
      }
     },
     "output_type": "display_data"
    }
   ],
   "source": [
    "top_3_words_lsa = get_top_n_words(3, lsa_keys, ct, vectorizer)\n",
    "lsa_mean_topic_vectors = get_mean_topic_vectors(lsa_keys, tsne_lsa_vectors)\n",
    "\n",
    "plot = figure(title=\"t-SNE Clustering of {} LSA Topics\".format(n_topics), plot_width=700, plot_height=700)\n",
    "plot.scatter(x=tsne_lsa_vectors[:,0], y=tsne_lsa_vectors[:,1], color=colormap[lsa_keys])\n",
    "\n",
    "for t in range(n_topics):\n",
    "    label = Label(x=lsa_mean_topic_vectors[t][0], y=lsa_mean_topic_vectors[t][1], \n",
    "                  text=top_3_words_lsa[t], text_color=colormap[t])\n",
    "    plot.add_layout(label)\n",
    "    \n",
    "show(plot)"
   ]
  },
  {
   "cell_type": "markdown",
   "metadata": {},
   "source": [
    "LDA topic modelling"
   ]
  },
  {
   "cell_type": "markdown",
   "metadata": {},
   "source": [
    "# LDA"
   ]
  },
  {
   "cell_type": "code",
   "execution_count": 45,
   "metadata": {},
   "outputs": [],
   "source": [
    "from sklearn.decomposition import LatentDirichletAllocation"
   ]
  },
  {
   "cell_type": "code",
   "execution_count": 50,
   "metadata": {},
   "outputs": [
    {
     "name": "stdout",
     "output_type": "stream",
     "text": [
      "(5, 101)\n"
     ]
    }
   ],
   "source": [
    "ct,vectorizer = doc_word_matrix(text,bag_of_words=False,tf_idf = True)\n",
    "print(ct.shape)\n",
    "lda_model = LatentDirichletAllocation(n_components=n_topics, learning_method='online', \n",
    "                                          random_state=0, verbose=0)\n",
    "lda_topic_matrix = lda_model.fit_transform(ct)\n"
   ]
  },
  {
   "cell_type": "code",
   "execution_count": 51,
   "metadata": {},
   "outputs": [],
   "source": [
    "lda_keys = get_keys(lda_topic_matrix)\n",
    "lda_categories, lda_counts = keys_to_counts(lda_keys)"
   ]
  },
  {
   "cell_type": "code",
   "execution_count": 52,
   "metadata": {},
   "outputs": [
    {
     "name": "stdout",
     "output_type": "stream",
     "text": [
      "Topic 1:  change africa nigerian money climate nigeria plan company launch time\n",
      "Topic 2:  nigeria years national quality sector government help like findings research\n",
      "Topic 3:  health ghana delivery company like service million services including year\n"
     ]
    }
   ],
   "source": [
    "lda_topic = []\n",
    "top_n_words_lda = get_top_n_words(10, lda_keys, ct, vectorizer)\n",
    "\n",
    "for i in range(len(top_n_words_lda)):\n",
    "    lda_topic.append(top_n_words_lda[i])\n",
    "    print(\"Topic {}: \".format(i+1), top_n_words_lda[i])"
   ]
  },
  {
   "cell_type": "code",
   "execution_count": 53,
   "metadata": {},
   "outputs": [
    {
     "data": {
      "image/png": "[encoded data removed]",
      "text/plain": [
       "<Figure size 1152x576 with 1 Axes>"
      ]
     },
     "metadata": {
      "needs_background": "light"
     },
     "output_type": "display_data"
    }
   ],
   "source": [
    "top_3_words = get_top_n_words(3, lda_keys, ct, vectorizer)\n",
    "labels = ['Topic {}: \\n'.format(i) + top_3_words[i] for i in lda_categories]\n",
    "\n",
    "fig, ax = plt.subplots(figsize=(16,8))\n",
    "ax.bar(lda_categories, lda_counts);\n",
    "ax.set_xticks(lda_categories);\n",
    "ax.set_xticklabels(labels);\n",
    "ax.set_title('LDA topic counts');\n",
    "ax.set_ylabel('Number of headlines');"
   ]
  },
  {
   "cell_type": "code",
   "execution_count": 54,
   "metadata": {},
   "outputs": [
    {
     "name": "stdout",
     "output_type": "stream",
     "text": [
      "[t-SNE] Computing 4 nearest neighbors...\n",
      "[t-SNE] Indexed 5 samples in 0.000s...\n",
      "[t-SNE] Computed neighbors for 5 samples in 0.016s...\n",
      "[t-SNE] Computed conditional probabilities for sample 5 / 5\n",
      "[t-SNE] Mean sigma: 1125899906842624.000000\n",
      "[t-SNE] KL divergence after 250 iterations with early exaggeration: 34.088444\n",
      "[t-SNE] KL divergence after 1150 iterations: 0.100470\n"
     ]
    }
   ],
   "source": [
    "tsne_lda_model = TSNE(n_components=2, perplexity=50, learning_rate=100, \n",
    "                        n_iter=2500, verbose=1, random_state=0, angle=0.75)\n",
    "tsne_lda_vectors = tsne_lda_model.fit_transform(lda_topic_matrix)"
   ]
  },
  {
   "cell_type": "code",
   "execution_count": 55,
   "metadata": {},
   "outputs": [
    {
     "data": {
      "text/html": [
       "\n",
       "\n",
       "\n",
       "\n",
       "\n",
       "\n",
       "  <div class=\"bk-root\" id=\"346f7982-4553-484f-bd8e-2e77223760c9\" data-root-id=\"1100\"></div>\n"
      ]
     },
     "metadata": {},
     "output_type": "display_data"
    },
    {
     "data": {
      "application/javascript": [
       "(function(root) {\n",
       "  function embed_document(root) {\n",
       "    \n",
       "  var docs_json = {\"7f44c775-0e07-432b-9002-f55d65733ab5\":{\"roots\":{\"references\":[{\"attributes\":{\"below\":[{\"id\":\"1111\",\"type\":\"LinearAxis\"}],\"center\":[{\"id\":\"1115\",\"type\":\"Grid\"},{\"id\":\"1120\",\"type\":\"Grid\"},{\"id\":\"1139\",\"type\":\"Label\"},{\"id\":\"1140\",\"type\":\"Label\"},{\"id\":\"1141\",\"type\":\"Label\"}],\"left\":[{\"id\":\"1116\",\"type\":\"LinearAxis\"}],\"plot_height\":700,\"plot_width\":700,\"renderers\":[{\"id\":\"1137\",\"type\":\"GlyphRenderer\"}],\"title\":{\"id\":\"1101\",\"type\":\"Title\"},\"toolbar\":{\"id\":\"1127\",\"type\":\"Toolbar\"},\"x_range\":{\"id\":\"1103\",\"type\":\"DataRange1d\"},\"x_scale\":{\"id\":\"1107\",\"type\":\"LinearScale\"},\"y_range\":{\"id\":\"1105\",\"type\":\"DataRange1d\"},\"y_scale\":{\"id\":\"1109\",\"type\":\"LinearScale\"}},\"id\":\"1100\",\"subtype\":\"Figure\",\"type\":\"Plot\"},{\"attributes\":{},\"id\":\"1117\",\"type\":\"BasicTicker\"},{\"attributes\":{\"dimension\":1,\"ticker\":{\"id\":\"1117\",\"type\":\"BasicTicker\"}},\"id\":\"1120\",\"type\":\"Grid\"},{\"attributes\":{\"callback\":null},\"id\":\"1105\",\"type\":\"DataRange1d\"},{\"attributes\":{},\"id\":\"1156\",\"type\":\"UnionRenderers\"},{\"attributes\":{\"fill_alpha\":{\"value\":0.1},\"fill_color\":{\"value\":\"#1f77b4\"},\"line_alpha\":{\"value\":0.1},\"line_color\":{\"value\":\"#1f77b4\"},\"x\":{\"field\":\"x\"},\"y\":{\"field\":\"y\"}},\"id\":\"1136\",\"type\":\"Scatter\"},{\"attributes\":{\"bottom_units\":\"screen\",\"fill_alpha\":{\"value\":0.5},\"fill_color\":{\"value\":\"lightgrey\"},\"left_units\":\"screen\",\"level\":\"overlay\",\"line_alpha\":{\"value\":1.0},\"line_color\":{\"value\":\"black\"},\"line_dash\":[4,4],\"line_width\":{\"value\":2},\"render_mode\":\"css\",\"right_units\":\"screen\",\"top_units\":\"screen\"},\"id\":\"1157\",\"type\":\"BoxAnnotation\"},{\"attributes\":{\"fill_color\":{\"field\":\"fill_color\"},\"line_color\":{\"field\":\"line_color\"},\"x\":{\"field\":\"x\"},\"y\":{\"field\":\"y\"}},\"id\":\"1135\",\"type\":\"Scatter\"},{\"attributes\":{\"text\":\"t-SNE Clustering of 3 LDA Topics\"},\"id\":\"1101\",\"type\":\"Title\"},{\"attributes\":{\"active_drag\":\"auto\",\"active_inspect\":\"auto\",\"active_multi\":null,\"active_scroll\":\"auto\",\"active_tap\":\"auto\",\"tools\":[{\"id\":\"1121\",\"type\":\"PanTool\"},{\"id\":\"1122\",\"type\":\"WheelZoomTool\"},{\"id\":\"1123\",\"type\":\"BoxZoomTool\"},{\"id\":\"1124\",\"type\":\"SaveTool\"},{\"id\":\"1125\",\"type\":\"ResetTool\"},{\"id\":\"1126\",\"type\":\"HelpTool\"}]},\"id\":\"1127\",\"type\":\"Toolbar\"},{\"attributes\":{\"text\":\"change africa nigerian\",\"text_color\":{\"value\":\"#1f77b4\"},\"x\":851.704345703125,\"y\":-66.33460998535156},\"id\":\"1139\",\"type\":\"Label\"},{\"attributes\":{},\"id\":\"1121\",\"type\":\"PanTool\"},{\"attributes\":{},\"id\":\"1122\",\"type\":\"WheelZoomTool\"},{\"attributes\":{},\"id\":\"1107\",\"type\":\"LinearScale\"},{\"attributes\":{\"callback\":null},\"id\":\"1103\",\"type\":\"DataRange1d\"},{\"attributes\":{\"overlay\":{\"id\":\"1157\",\"type\":\"BoxAnnotation\"}},\"id\":\"1123\",\"type\":\"BoxZoomTool\"},{\"attributes\":{},\"id\":\"1124\",\"type\":\"SaveTool\"},{\"attributes\":{},\"id\":\"1125\",\"type\":\"ResetTool\"},{\"attributes\":{},\"id\":\"1126\",\"type\":\"HelpTool\"},{\"attributes\":{},\"id\":\"1109\",\"type\":\"LinearScale\"},{\"attributes\":{\"formatter\":{\"id\":\"1153\",\"type\":\"BasicTickFormatter\"},\"ticker\":{\"id\":\"1117\",\"type\":\"BasicTicker\"}},\"id\":\"1116\",\"type\":\"LinearAxis\"},{\"attributes\":{\"source\":{\"id\":\"1134\",\"type\":\"ColumnDataSource\"}},\"id\":\"1138\",\"type\":\"CDSView\"},{\"attributes\":{\"formatter\":{\"id\":\"1151\",\"type\":\"BasicTickFormatter\"},\"ticker\":{\"id\":\"1112\",\"type\":\"BasicTicker\"}},\"id\":\"1111\",\"type\":\"LinearAxis\"},{\"attributes\":{\"data_source\":{\"id\":\"1134\",\"type\":\"ColumnDataSource\"},\"glyph\":{\"id\":\"1135\",\"type\":\"Scatter\"},\"hover_glyph\":null,\"muted_glyph\":null,\"nonselection_glyph\":{\"id\":\"1136\",\"type\":\"Scatter\"},\"selection_glyph\":null,\"view\":{\"id\":\"1138\",\"type\":\"CDSView\"}},\"id\":\"1137\",\"type\":\"GlyphRenderer\"},{\"attributes\":{},\"id\":\"1112\",\"type\":\"BasicTicker\"},{\"attributes\":{\"callback\":null,\"data\":{\"fill_color\":[\"#ff7f0e\",\"#1f77b4\",\"#aec7e8\",\"#aec7e8\",\"#1f77b4\"],\"line_color\":[\"#ff7f0e\",\"#1f77b4\",\"#aec7e8\",\"#aec7e8\",\"#1f77b4\"],\"x\":{\"__ndarray__\":\"BcBtRA/7f0ThJS1E/oqWRBjfKUQ=\",\"dtype\":\"float32\",\"shape\":[5]},\"y\":{\"__ndarray__\":\"bUdPQwoGhMNt61LD7fM+QcJgA0M=\",\"dtype\":\"float32\",\"shape\":[5]}},\"selected\":{\"id\":\"1155\",\"type\":\"Selection\"},\"selection_policy\":{\"id\":\"1156\",\"type\":\"UnionRenderers\"}},\"id\":\"1134\",\"type\":\"ColumnDataSource\"},{\"attributes\":{\"text\":\"nigeria years national\",\"text_color\":{\"value\":\"#aec7e8\"},\"x\":948.4676513671875,\"y\":-99.49253845214844},\"id\":\"1140\",\"type\":\"Label\"},{\"attributes\":{\"text\":\"health ghana delivery\",\"text_color\":{\"value\":\"#ff7f0e\"},\"x\":951.0003051757812,\"y\":207.2790069580078},\"id\":\"1141\",\"type\":\"Label\"},{\"attributes\":{},\"id\":\"1151\",\"type\":\"BasicTickFormatter\"},{\"attributes\":{},\"id\":\"1153\",\"type\":\"BasicTickFormatter\"},{\"attributes\":{\"ticker\":{\"id\":\"1112\",\"type\":\"BasicTicker\"}},\"id\":\"1115\",\"type\":\"Grid\"},{\"attributes\":{},\"id\":\"1155\",\"type\":\"Selection\"}],\"root_ids\":[\"1100\"]},\"title\":\"Bokeh Application\",\"version\":\"1.1.0\"}};\n",
       "  var render_items = [{\"docid\":\"7f44c775-0e07-432b-9002-f55d65733ab5\",\"roots\":{\"1100\":\"346f7982-4553-484f-bd8e-2e77223760c9\"}}];\n",
       "  root.Bokeh.embed.embed_items_notebook(docs_json, render_items);\n",
       "\n",
       "  }\n",
       "  if (root.Bokeh !== undefined) {\n",
       "    embed_document(root);\n",
       "  } else {\n",
       "    var attempts = 0;\n",
       "    var timer = setInterval(function(root) {\n",
       "      if (root.Bokeh !== undefined) {\n",
       "        embed_document(root);\n",
       "        clearInterval(timer);\n",
       "      }\n",
       "      attempts++;\n",
       "      if (attempts > 100) {\n",
       "        console.log(\"Bokeh: ERROR: Unable to run BokehJS code because BokehJS library is missing\");\n",
       "        clearInterval(timer);\n",
       "      }\n",
       "    }, 10, root)\n",
       "  }\n",
       "})(window);"
      ],
      "application/vnd.bokehjs_exec.v0+json": ""
     },
     "metadata": {
      "application/vnd.bokehjs_exec.v0+json": {
       "id": "1100"
      }
     },
     "output_type": "display_data"
    }
   ],
   "source": [
    "top_3_words_lda = get_top_n_words(3, lda_keys, ct, vectorizer)\n",
    "lda_mean_topic_vectors = get_mean_topic_vectors(lda_keys, tsne_lda_vectors)\n",
    "\n",
    "plot = figure(title=\"t-SNE Clustering of {} LDA Topics\".format(n_topics), plot_width=700, plot_height=700)\n",
    "plot.scatter(x=tsne_lda_vectors[:,0], y=tsne_lda_vectors[:,1], color=colormap[lda_keys])\n",
    "\n",
    "for t in range(n_topics):\n",
    "    label = Label(x=lda_mean_topic_vectors[t][0], y=lda_mean_topic_vectors[t][1], \n",
    "                  text=top_3_words_lda[t], text_color=colormap[t])\n",
    "    plot.add_layout(label)\n",
    "\n",
    "show(plot)"
   ]
  },
  {
   "cell_type": "markdown",
   "metadata": {},
   "source": [
    "lda is more promising in topic modeling. "
   ]
  },
  {
   "cell_type": "code",
   "execution_count": 58,
   "metadata": {},
   "outputs": [],
   "source": [
    "def print_top_words(model, feature_names, n_top_words):\n",
    "    for index, topic in enumerate(model.components_):\n",
    "        message = \"\\nTopic #{}:\".format(index)\n",
    "        message += \" \".join([feature_names[i] for i in topic.argsort()[:-n_top_words - 1 :-1]])\n",
    "        print(message)\n",
    "        print(\"=\"*70)"
   ]
  },
  {
   "cell_type": "code",
   "execution_count": 59,
   "metadata": {},
   "outputs": [
    {
     "name": "stdout",
     "output_type": "stream",
     "text": [
      "\n",
      "Topics in LDA model: \n",
      "\n",
      "Topic #0:change africa nigerian money company climate plan launch nigeria time million use university government 100 work state began levels weekly 000 main profits saw service high small article public economic north ghana students largest relations particular innovation approach based local\n",
      "======================================================================\n",
      "\n",
      "Topic #1:nigeria years national quality sector help like ago findings government africa needs university research 2018 thousands used growth state including countries saw dramatic change using climate high african hope massive levels profits great creative working year article million money nigerian\n",
      "======================================================================\n",
      "\n",
      "Topic #2:ghana health delivery company like service sector including use million government help year time services small scale rates hope african working according range years began 30 make work founded people launch needs vice africa local road severe population infrastructure high\n",
      "======================================================================\n"
     ]
    }
   ],
   "source": [
    "n_top_words = 40\n",
    "print(\"\\nTopics in LDA model: \")\n",
    "tf_feature_names = vectorizer.get_feature_names()\n",
    "print_top_words(lda_model, feature_names, n_top_words)"
   ]
  },
  {
   "cell_type": "code",
   "execution_count": 60,
   "metadata": {},
   "outputs": [],
   "source": [
    "first_topic = lda_model.components_[0]\n",
    "second_topic = lda_model.components_[1]\n",
    "third_topic = lda_model.components_[2]\n",
    "# fourth_topic = lda.components_[3]"
   ]
  },
  {
   "cell_type": "code",
   "execution_count": 61,
   "metadata": {},
   "outputs": [],
   "source": [
    "first_topic_words = [tf_feature_names[i] for i in first_topic.argsort()[:-50 - 1 :-1]]\n",
    "second_topic_words = [tf_feature_names[i] for i in second_topic.argsort()[:-50 - 1 :-1]]\n",
    "third_topic_words = [tf_feature_names[i] for i in third_topic.argsort()[:-50 - 1 :-1]]\n",
    "# fourth_topic_words = [tf_feature_names[i] for i in fourth_topic.argsort()[:-50 - 1 :-1]]"
   ]
  },
  {
   "cell_type": "code",
   "execution_count": 62,
   "metadata": {},
   "outputs": [
    {
     "data": {
      "image/png": "[encoded data removed]",
      "text/plain": [
       "<Figure size 432x288 with 1 Axes>"
      ]
     },
     "metadata": {
      "needs_background": "light"
     },
     "output_type": "display_data"
    }
   ],
   "source": [
    "# from wordcloud import WordCloud\n",
    "from wordcloud import WordCloud,STOPWORDS\n",
    "# Generating the wordcloud with the values under the category dataframe\n",
    "firstcloud = WordCloud(\n",
    "                          stopwords=STOPWORDS,\n",
    "                          background_color='black',\n",
    "                          width=2500,\n",
    "                          height=1800\n",
    "                         ).generate(\" \".join(first_topic_words))\n",
    "plt.imshow(firstcloud)\n",
    "plt.axis('off')\n",
    "plt.show()"
   ]
  },
  {
   "cell_type": "code",
   "execution_count": 63,
   "metadata": {},
   "outputs": [
    {
     "data": {
      "image/png": "[encoded data removed]",
      "text/plain": [
       "<Figure size 432x288 with 1 Axes>"
      ]
     },
     "metadata": {
      "needs_background": "light"
     },
     "output_type": "display_data"
    }
   ],
   "source": [
    "cloud = WordCloud(\n",
    "                          stopwords=STOPWORDS,\n",
    "                          background_color='black',\n",
    "                          width=2500,\n",
    "                          height=1800\n",
    "                         ).generate(\" \".join(second_topic_words))\n",
    "plt.imshow(cloud)\n",
    "plt.axis('off')\n",
    "plt.show()"
   ]
  },
  {
   "cell_type": "code",
   "execution_count": 64,
   "metadata": {},
   "outputs": [
    {
     "data": {
      "image/png": "[encoded data removed]",
      "text/plain": [
       "<Figure size 432x288 with 1 Axes>"
      ]
     },
     "metadata": {
      "needs_background": "light"
     },
     "output_type": "display_data"
    }
   ],
   "source": [
    "cloud = WordCloud(\n",
    "                          stopwords=STOPWORDS,\n",
    "                          background_color='black',\n",
    "                          width=2500,\n",
    "                          height=1800\n",
    "                         ).generate(\" \".join(third_topic_words))\n",
    "plt.imshow(cloud)\n",
    "plt.axis('off')\n",
    "plt.show()"
   ]
  },
  {
   "cell_type": "markdown",
   "metadata": {},
   "source": [
    "Now we will see lda2vec which is basically a combination of word2vec and topic modeling."
   ]
  },
  {
   "cell_type": "markdown",
   "metadata": {},
   "source": [
    "# LDA2vec"
   ]
  },
  {
   "cell_type": "code",
   "execution_count": 66,
   "metadata": {},
   "outputs": [
    {
     "name": "stdout",
     "output_type": "stream",
     "text": [
      "The autoreload extension is already loaded. To reload it, use:\n",
      "  %reload_ext autoreload\n"
     ]
    },
    {
     "name": "stderr",
     "output_type": "stream",
     "text": [
      "Using TensorFlow backend.\n"
     ]
    }
   ],
   "source": [
    "%load_ext autoreload\n",
    "%autoreload 2\n",
    "from lda2vec.nlppipe import Preprocessor"
   ]
  },
  {
   "cell_type": "markdown",
   "metadata": {},
   "source": [
    "for lda2vec, we will use '20_newsgroups.txt'"
   ]
  },
  {
   "cell_type": "code",
   "execution_count": 68,
   "metadata": {},
   "outputs": [],
   "source": [
    "# Data directory\n",
    "data_dir = r'../data'\n",
    "# Where to save preprocessed data\n",
    "clean_data_dir = os.path.join(data_dir,'clean_data')"
   ]
  },
  {
   "cell_type": "code",
   "execution_count": 69,
   "metadata": {},
   "outputs": [],
   "source": [
    "input_file = \"20_newsgroups.txt\"\n",
    "# Should we load pretrained embeddings from file\n",
    "load_embeds = True\n",
    "\n",
    "# Read in data file\n",
    "df = pd.read_csv(data_dir+\"/\"+input_file, sep=\"\\t\")"
   ]
  },
  {
   "cell_type": "code",
   "execution_count": 70,
   "metadata": {},
   "outputs": [],
   "source": [
    "len(df)\n",
    "df = df[:2000]"
   ]
  },
  {
   "cell_type": "code",
   "execution_count": 71,
   "metadata": {},
   "outputs": [
    {
     "data": {
      "text/plain": [
       "2000"
      ]
     },
     "execution_count": 71,
     "metadata": {},
     "output_type": "execute_result"
    }
   ],
   "source": [
    "len(df)"
   ]
  },
  {
   "cell_type": "code",
   "execution_count": 72,
   "metadata": {},
   "outputs": [],
   "source": [
    "df.texts\n",
    "P = Preprocessor(df, \"texts\", max_features=30000, maxlen=10000, min_count=30)"
   ]
  },
  {
   "cell_type": "code",
   "execution_count": 73,
   "metadata": {},
   "outputs": [
    {
     "name": "stdout",
     "output_type": "stream",
     "text": [
      "\n",
      "---------- Tokenizing Texts ----------\n"
     ]
    },
    {
     "name": "stderr",
     "output_type": "stream",
     "text": [
      "2000it [00:28, 68.99it/s]\n"
     ]
    },
    {
     "name": "stdout",
     "output_type": "stream",
     "text": [
      "Removing 22547 low frequency tokens out of 23620 total tokens\n",
      "\n",
      "---------- Getting Skipgrams ----------\n"
     ]
    },
    {
     "name": "stderr",
     "output_type": "stream",
     "text": [
      "2000it [00:02, 670.06it/s]\n"
     ]
    }
   ],
   "source": [
    "P.preprocess()"
   ]
  },
  {
   "cell_type": "code",
   "execution_count": 74,
   "metadata": {},
   "outputs": [
    {
     "name": "stdout",
     "output_type": "stream",
     "text": [
      "vocab size 1073\n"
     ]
    }
   ],
   "source": [
    "print('vocab size',P.vocab_size)"
   ]
  },
  {
   "cell_type": "code",
   "execution_count": 75,
   "metadata": {},
   "outputs": [],
   "source": [
    "# dir(P)"
   ]
  },
  {
   "cell_type": "code",
   "execution_count": 76,
   "metadata": {},
   "outputs": [],
   "source": [
    "def load_glove( EMBEDDING_FILE):\n",
    "    def get_coefs(word,*arr): return word, np.asarray(arr, dtype='float32')\n",
    "    embeddings_index = dict(get_coefs(*o.split(\" \")) for o in open(EMBEDDING_FILE,encoding = 'utf8'))\n",
    "\n",
    "    all_embs = np.stack(embeddings_index.values())\n",
    "    emb_mean,emb_std = all_embs.mean(), all_embs.std()\n",
    "    embed_size = all_embs.shape[1]\n",
    "\n",
    "    # word_index = tokenizer.word_index\n",
    "    nb_words = P.vocab_size\n",
    "    embedding_matrix = np.random.normal(emb_mean, emb_std, (nb_words, embed_size))\n",
    "    for word, i in P.word_to_idx.items():\n",
    "        if i >= P.vocab_size: continue\n",
    "        embedding_vector = embeddings_index.get(word)\n",
    "        if embedding_vector is not None: embedding_matrix[i] = embedding_vector\n",
    "\n",
    "    return embedding_matrix "
   ]
  },
  {
   "cell_type": "code",
   "execution_count": null,
   "metadata": {},
   "outputs": [],
   "source": []
  },
  {
   "cell_type": "code",
   "execution_count": 79,
   "metadata": {},
   "outputs": [],
   "source": [
    "load_embeds = True\n",
    "if load_embeds:\n",
    "    # Load embedding matrix from file path - change path to where you saved them\n",
    "    embedding_matrix = load_glove(os.path.join(data_dir,\"glove.6B.300d.txt\"))\n",
    "else:\n",
    "    embedding_matrix = None"
   ]
  },
  {
   "cell_type": "code",
   "execution_count": 80,
   "metadata": {},
   "outputs": [
    {
     "name": "stdout",
     "output_type": "stream",
     "text": [
      "shape of embedding_matrix (1073, 300)\n"
     ]
    }
   ],
   "source": [
    "print('shape of embedding_matrix',embedding_matrix.shape)"
   ]
  },
  {
   "cell_type": "code",
   "execution_count": 81,
   "metadata": {},
   "outputs": [],
   "source": [
    "# Save data to data_dir\n",
    "P.save_data(clean_data_dir, embedding_matrix=embedding_matrix)"
   ]
  },
  {
   "cell_type": "code",
   "execution_count": 82,
   "metadata": {},
   "outputs": [],
   "source": [
    "from lda2vec import utils, model\n",
    "\n",
    "# Path to preprocessed data\n",
    "data_path  = clean_data_dir\n",
    "# Whether or not to load saved embeddings file\n",
    "load_embeds = True\n",
    "\n",
    "# Load data from files\n",
    "(idx_to_word, word_to_idx, freqs, pivot_ids,\n",
    " target_ids, doc_ids, embed_matrix) = utils.load_preprocessed_data(data_path, load_embed_matrix=load_embeds)\n"
   ]
  },
  {
   "cell_type": "code",
   "execution_count": 83,
   "metadata": {},
   "outputs": [],
   "source": [
    "\n",
    "# Number of unique documents\n",
    "num_docs = doc_ids.max() + 1\n",
    "# Number of unique words in vocabulary (int)\n",
    "vocab_size = len(freqs)\n",
    "# Embed layer dimension size\n",
    "# If not loading embeds, change 128 to whatever size you want.\n",
    "embed_size = embed_matrix.shape[1] if load_embeds else 128\n",
    "# Number of topics to cluster into\n",
    "num_topics = 10\n",
    "# Amount of iterations over entire dataset\n",
    "num_epochs = 200\n",
    "# Batch size - Increase/decrease depending on memory usage\n",
    "batch_size = 4096\n",
    "# Epoch that we want to \"switch on\" LDA loss\n",
    "switch_loss_epoch = 0\n",
    "# Pretrained embeddings value\n",
    "pretrained_embedding = embed_matrix if load_embeds else None\n",
    "# If True, save logdir, otherwise don't\n",
    "save_graph = True\n"
   ]
  },
  {
   "cell_type": "code",
   "execution_count": 84,
   "metadata": {},
   "outputs": [
    {
     "name": "stdout",
     "output_type": "stream",
     "text": [
      "WARNING:tensorflow:From C:\\Users\\vikrant\\Anaconda3\\envs\\NLP\\lib\\site-packages\\tensorflow\\python\\framework\\op_def_library.py:263: colocate_with (from tensorflow.python.framework.ops) is deprecated and will be removed in a future version.\n",
      "Instructions for updating:\n",
      "Colocations handled automatically by placer.\n",
      "\n",
      "WARNING: The TensorFlow contrib module will not be included in TensorFlow 2.0.\n",
      "For more information, please see:\n",
      "  * https://github.com/tensorflow/community/blob/master/rfcs/20180907-contrib-sunset.md\n",
      "  * https://github.com/tensorflow/addons\n",
      "If you depend on functionality not listed there, please file an issue.\n",
      "\n",
      "WARNING:tensorflow:From C:\\Users\\vikrant\\Anaconda3\\envs\\NLP\\lib\\site-packages\\tensorflow\\python\\ops\\array_grad.py:425: to_int32 (from tensorflow.python.ops.math_ops) is deprecated and will be removed in a future version.\n",
      "Instructions for updating:\n",
      "Use tf.cast instead.\n"
     ]
    }
   ],
   "source": [
    "# Initialize the model\n",
    "m = model(num_docs,\n",
    "          vocab_size,\n",
    "          num_topics,\n",
    "          embedding_size=embed_size,\n",
    "          pretrained_embeddings=pretrained_embedding,\n",
    "          freqs=freqs,\n",
    "          batch_size = batch_size,\n",
    "          save_graph_def=save_graph)\n",
    "\n"
   ]
  },
  {
   "cell_type": "code",
   "execution_count": null,
   "metadata": {},
   "outputs": [
    {
     "name": "stdout",
     "output_type": "stream",
     "text": [
      "\n",
      "EPOCH: 1\n",
      "LOSS 52769.586 w2v 40.934616 lda 52728.652\n",
      "\n",
      "EPOCH: 2\n",
      "LOSS 50874.547 w2v 10.556454 lda 50863.992\n",
      "\n",
      "EPOCH: 3\n",
      "LOSS 49406.953 w2v 4.9731627 lda 49401.98\n",
      "\n",
      "EPOCH: 4\n",
      "LOSS 48264.195 w2v 6.7388525 lda 48257.457\n",
      "\n",
      "EPOCH: 5\n",
      "LOSS 47368.58 w2v 4.55978 lda 47364.02\n",
      "WARNING:tensorflow:From C:\\Users\\vikrant\\Anaconda3\\envs\\NLP\\lib\\site-packages\\lda2vec-0.16.10-py3.6.egg\\lda2vec\\Lda2vec.py:277: calling reduce_sum_v1 (from tensorflow.python.ops.math_ops) with keep_dims is deprecated and will be removed in a future version.\n",
      "Instructions for updating:\n",
      "keep_dims is deprecated, use keepdims instead\n",
      "---------Closest 10 words to given indexes----------\n",
      "Topic 0 : unfortunately, example, addition, actually, fact, etc, instead, sort, supposed, thought\n",
      "Topic 1 : unfortunately, example, addition, actually, etc, fact, instead, supposed, thought, sort\n",
      "Topic 2 : unfortunately, example, addition, etc, fact, actually, instead, supposed, thought, sort\n",
      "Topic 3 : unfortunately, example, addition, etc, fact, actually, instead, supposed, thought, sort\n",
      "Topic 4 : unfortunately, example, addition, fact, actually, etc, instead, supposed, thought, sort\n",
      "Topic 5 : unfortunately, example, addition, etc, fact, actually, instead, supposed, thought, sort\n",
      "Topic 6 : unfortunately, example, addition, fact, etc, actually, instead, supposed, thought, sort\n",
      "Topic 7 : unfortunately, example, addition, etc, fact, actually, instead, supposed, sort, thought\n",
      "Topic 8 : unfortunately, example, addition, fact, actually, etc, instead, thought, supposed, sort\n",
      "Topic 9 : unfortunately, example, addition, etc, fact, actually, instead, supposed, sort, thought\n",
      "\n",
      "EPOCH: 6\n",
      "LOSS 46673.785 w2v 4.607978 lda 46669.176\n",
      "\n",
      "EPOCH: 7\n",
      "LOSS 46135.82 w2v 4.6665897 lda 46131.152\n",
      "\n",
      "EPOCH: 8\n",
      "LOSS 45721.28 w2v 4.6119375 lda 45716.668\n",
      "\n",
      "EPOCH: 9\n",
      "LOSS 45403.79 w2v 4.5439506 lda 45399.246\n",
      "\n",
      "EPOCH: 10\n",
      "LOSS 45162.375 w2v 4.52065 lda 45157.855\n",
      "---------Closest 10 words to given indexes----------\n",
      "Topic 0 : unfortunately, example, etc, addition, actually, fact, assuming, instead, supposed, sort\n",
      "Topic 1 : unfortunately, example, etc, addition, actually, fact, assuming, instead, supposed, sort\n",
      "Topic 2 : unfortunately, example, etc, addition, actually, fact, assuming, instead, supposed, sort\n",
      "Topic 3 : unfortunately, example, etc, addition, actually, fact, assuming, instead, supposed, sort\n",
      "Topic 4 : unfortunately, example, etc, addition, actually, fact, assuming, instead, supposed, sort\n",
      "Topic 5 : unfortunately, example, etc, addition, actually, fact, assuming, instead, supposed, sort\n",
      "Topic 6 : unfortunately, example, etc, addition, actually, fact, assuming, instead, supposed, sort\n",
      "Topic 7 : unfortunately, example, etc, addition, actually, fact, assuming, instead, supposed, sort\n",
      "Topic 8 : unfortunately, example, etc, addition, actually, fact, assuming, instead, supposed, sort\n",
      "Topic 9 : unfortunately, example, etc, addition, actually, fact, assuming, instead, supposed, sort\n",
      "\n",
      "EPOCH: 11\n",
      "LOSS 44980.426 w2v 4.6000595 lda 44975.824\n",
      "\n",
      "EPOCH: 12\n",
      "LOSS 44844.293 w2v 4.386034 lda 44839.906\n",
      "\n",
      "EPOCH: 13\n",
      "LOSS 44744.117 w2v 4.5380893 lda 44739.58\n",
      "\n",
      "EPOCH: 14\n",
      "LOSS 44670.93 w2v 4.457567 lda 44666.473\n",
      "\n",
      "EPOCH: 15\n",
      "LOSS 44618.508 w2v 4.5003204 lda 44614.008\n",
      "---------Closest 10 words to given indexes----------\n",
      "Topic 0 : unfortunately, etc, example, actually, fact, addition, instead, sort, assuming, supposed\n",
      "Topic 1 : unfortunately, etc, example, actually, addition, fact, instead, sort, assuming, supposed\n",
      "Topic 2 : unfortunately, etc, example, addition, actually, fact, instead, assuming, sort, supposed\n",
      "Topic 3 : unfortunately, etc, example, actually, addition, instead, fact, sort, assuming, supposed\n",
      "Topic 4 : unfortunately, etc, example, actually, addition, fact, instead, sort, assuming, supposed\n",
      "Topic 5 : unfortunately, etc, example, addition, actually, instead, fact, sort, assuming, appears\n",
      "Topic 6 : unfortunately, etc, example, addition, actually, instead, fact, sort, assuming, supposed\n",
      "Topic 7 : unfortunately, example, etc, addition, actually, instead, fact, assuming, sort, supposed\n",
      "Topic 8 : unfortunately, etc, example, actually, addition, fact, instead, sort, assuming, supposed\n",
      "Topic 9 : unfortunately, etc, example, addition, actually, instead, fact, assuming, sort, supposed\n",
      "\n",
      "EPOCH: 16\n",
      "LOSS 44581.348 w2v 4.415078 lda 44576.934\n",
      "\n",
      "EPOCH: 17\n",
      "LOSS 44555.535 w2v 4.337077 lda 44551.2\n",
      "\n",
      "EPOCH: 18\n",
      "LOSS 44537.977 w2v 4.350284 lda 44533.625\n",
      "\n",
      "EPOCH: 19\n",
      "LOSS 44526.242 w2v 4.386531 lda 44521.855\n",
      "\n",
      "EPOCH: 20\n",
      "LOSS 44518.426 w2v 4.325471 lda 44514.1\n",
      "---------Closest 10 words to given indexes----------\n",
      "Topic 0 : unfortunately, etc, actually, example, instead, fact, sort, having, assuming, thought\n",
      "Topic 1 : unfortunately, etc, actually, instead, example, fact, sort, having, addition, assuming\n",
      "Topic 2 : unfortunately, etc, example, actually, instead, fact, sort, having, addition, assuming\n",
      "Topic 3 : unfortunately, etc, actually, instead, example, fact, sort, having, addition, assuming\n",
      "Topic 4 : unfortunately, etc, actually, example, instead, fact, sort, having, addition, assuming\n",
      "Topic 5 : unfortunately, etc, example, instead, actually, addition, fact, sort, having, appears\n",
      "Topic 6 : unfortunately, etc, example, actually, instead, fact, sort, having, addition, assuming\n",
      "Topic 7 : unfortunately, etc, example, instead, actually, fact, sort, having, addition, assuming\n",
      "Topic 8 : unfortunately, etc, actually, instead, example, fact, sort, having, addition, assuming\n",
      "Topic 9 : unfortunately, etc, example, instead, actually, fact, sort, addition, having, appears\n",
      "\n",
      "EPOCH: 21\n",
      "LOSS 44513.453 w2v 4.3588915 lda 44509.094\n",
      "\n",
      "EPOCH: 22\n",
      "LOSS 44510.29 w2v 4.3759203 lda 44505.914\n",
      "\n",
      "EPOCH: 23\n",
      "LOSS 44508.215 w2v 4.2887306 lda 44503.926\n",
      "\n",
      "EPOCH: 24\n",
      "LOSS 44507.043 w2v 4.33366 lda 44502.71\n",
      "\n",
      "EPOCH: 25\n",
      "LOSS 44506.215 w2v 4.2353983 lda 44501.98\n",
      "---------Closest 10 words to given indexes----------\n",
      "Topic 0 : unfortunately, etc, actually, sort, having, instead, fact, wonder, example, seen\n",
      "Topic 1 : unfortunately, etc, actually, instead, having, sort, fact, wonder, example, seen\n",
      "Topic 2 : unfortunately, etc, actually, instead, having, sort, fact, example, wonder, uw\n",
      "Topic 3 : unfortunately, etc, actually, instead, having, sort, fact, wonder, example, seen\n",
      "Topic 4 : unfortunately, etc, actually, instead, having, sort, fact, wonder, uw, example\n",
      "Topic 5 : unfortunately, etc, instead, actually, having, sort, fact, example, uw, wonder\n",
      "Topic 6 : unfortunately, etc, actually, instead, having, sort, fact, wonder, uw, example\n",
      "Topic 7 : unfortunately, etc, actually, instead, having, sort, fact, example, wonder, uw\n",
      "Topic 8 : unfortunately, etc, actually, instead, having, sort, fact, wonder, example, seen\n",
      "Topic 9 : unfortunately, etc, actually, instead, having, sort, fact, example, uw, wonder\n",
      "\n",
      "EPOCH: 26\n",
      "LOSS 44505.9 w2v 4.348073 lda 44501.55\n",
      "\n",
      "EPOCH: 27\n",
      "LOSS 44505.58 w2v 4.2624946 lda 44501.316\n",
      "\n",
      "EPOCH: 28\n",
      "LOSS 44505.56 w2v 4.3870993 lda 44501.17\n",
      "\n",
      "EPOCH: 29\n",
      "LOSS 44505.28 w2v 4.186784 lda 44501.094\n",
      "\n",
      "EPOCH: 30\n",
      "LOSS 44505.23 w2v 4.1852493 lda 44501.047\n",
      "---------Closest 10 words to given indexes----------\n",
      "Topic 0 : etc, unfortunately, uw, actually, having, wonder, sort, instead, fact, seen\n",
      "Topic 1 : etc, unfortunately, uw, actually, having, instead, wonder, sort, fact, w\n",
      "Topic 2 : etc, uw, unfortunately, actually, having, w, wonder, instead, example, sort\n",
      "Topic 3 : etc, unfortunately, uw, actually, having, instead, wonder, sort, w, fact\n",
      "Topic 4 : etc, uw, unfortunately, actually, having, w, instead, wonder, fact, sort\n",
      "Topic 5 : etc, unfortunately, uw, having, actually, w, instead, wonder, sort, example\n",
      "Topic 6 : etc, uw, unfortunately, actually, having, instead, w, wonder, fact, sort\n",
      "Topic 7 : unfortunately, etc, uw, actually, having, instead, fact, wonder, w, sort\n",
      "Topic 8 : etc, unfortunately, uw, actually, having, wonder, instead, fact, w, sort\n",
      "Topic 9 : etc, unfortunately, uw, actually, having, w, instead, wonder, fact, example\n",
      "\n",
      "EPOCH: 31\n",
      "LOSS 44505.35 w2v 4.3352785 lda 44501.016\n",
      "\n",
      "EPOCH: 32\n",
      "LOSS 44505.285 w2v 4.2834578 lda 44501.0\n",
      "\n",
      "EPOCH: 33\n",
      "LOSS 44505.23 w2v 4.2396727 lda 44500.992\n",
      "\n",
      "EPOCH: 34\n",
      "LOSS 44505.133 w2v 4.1563187 lda 44500.977\n",
      "\n",
      "EPOCH: 35\n"
     ]
    }
   ],
   "source": [
    "# Train the model\n",
    "m.train(pivot_ids,\n",
    "        target_ids,\n",
    "        doc_ids,\n",
    "        len(pivot_ids),\n",
    "        num_epochs,\n",
    "        idx_to_word=idx_to_word,\n",
    "        switch_loss_epoch=switch_loss_epoch)"
   ]
  },
  {
   "cell_type": "markdown",
   "metadata": {},
   "source": [
    "lda2vec is used to train on large no.of epochs. "
   ]
  }
 ],
 "metadata": {
  "kernelspec": {
   "display_name": "Python [conda env:NLP]",
   "language": "python",
   "name": "conda-env-NLP-py"
  },
  "language_info": {
   "codemirror_mode": {
    "name": "ipython",
    "version": 3
   },
   "file_extension": ".py",
   "mimetype": "text/x-python",
   "name": "python",
   "nbconvert_exporter": "python",
   "pygments_lexer": "ipython3",
   "version": "3.6.8"
  }
 },
 "nbformat": 4,
 "nbformat_minor": 2
}
